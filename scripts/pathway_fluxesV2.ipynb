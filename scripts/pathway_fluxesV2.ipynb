{
 "cells": [
  {
   "cell_type": "code",
   "execution_count": 1,
   "metadata": {},
   "outputs": [],
   "source": [
    "from COBRAmodel import MyModel"
   ]
  },
  {
   "cell_type": "code",
   "execution_count": 2,
   "metadata": {},
   "outputs": [
    {
     "name": "stderr",
     "output_type": "stream",
     "text": [
      "3077 does not conform to 'http(s)://identifiers.org/collection/id' or'http(s)://identifiers.org/COLLECTION:id\n"
     ]
    },
    {
     "name": "stdout",
     "output_type": "stream",
     "text": [
      "Loading\n",
      "\n"
     ]
    },
    {
     "name": "stderr",
     "output_type": "stream",
     "text": [
      "Could not identify an external compartment by name and choosing one with the most boundary reactions. That might be complete nonsense or change suddenly. Consider renaming your compartments using `Model.compartments` to fix this.\n"
     ]
    },
    {
     "name": "stdout",
     "output_type": "stream",
     "text": [
      "Reactions: 6956\n",
      "Metabolites: 7011\n",
      "Genes: 1701\n",
      "Model loaded\n"
     ]
    }
   ],
   "source": [
    "model = MyModel(r\"C:\\Users\\gonca\\OneDrive\\Documentos\\GitHub\\UC_projeto\\model.xml\", \"e_Biomass__cytop\")"
   ]
  },
  {
   "cell_type": "code",
   "execution_count": 3,
   "metadata": {},
   "outputs": [
    {
     "data": {
      "text/plain": [
       "{'C_extr': 'extracellular',\n",
       " 'C_cytop': 'cytoplasmic',\n",
       " 'C_chlo': 'chloroplast',\n",
       " 'C_mito': 'mitochondria',\n",
       " 'C_pero': 'peroxisome',\n",
       " 'C_er': 'endoplasmic_reticulum',\n",
       " 'C_golg': 'golgi_apparatus',\n",
       " 'C_nuc': 'nuclear',\n",
       " 'C_vac': 'vacuole',\n",
       " 'C_plast': 'plastid'}"
      ]
     },
     "execution_count": 3,
     "metadata": {},
     "output_type": "execute_result"
    }
   ],
   "source": [
    "model.compartments"
   ]
  },
  {
   "cell_type": "code",
   "execution_count": 53,
   "metadata": {},
   "outputs": [
    {
     "name": "stderr",
     "output_type": "stream",
     "text": [
      "Could not identify an external compartment by name and choosing one with the most boundary reactions. That might be complete nonsense or change suddenly. Consider renaming your compartments using `Model.compartments` to fix this.\n"
     ]
    },
    {
     "data": {
      "text/html": [
       "<div>\n",
       "<style scoped>\n",
       "    .dataframe tbody tr th:only-of-type {\n",
       "        vertical-align: middle;\n",
       "    }\n",
       "\n",
       "    .dataframe tbody tr th {\n",
       "        vertical-align: top;\n",
       "    }\n",
       "\n",
       "    .dataframe thead th {\n",
       "        text-align: right;\n",
       "    }\n",
       "</style>\n",
       "<table border=\"1\" class=\"dataframe\">\n",
       "  <thead>\n",
       "    <tr style=\"text-align: right;\">\n",
       "      <th></th>\n",
       "      <th>Flux</th>\n",
       "    </tr>\n",
       "  </thead>\n",
       "  <tbody>\n",
       "    <tr>\n",
       "      <th>NADPH</th>\n",
       "      <td>135.059869</td>\n",
       "    </tr>\n",
       "    <tr>\n",
       "      <th>Heme</th>\n",
       "      <td>236.354770</td>\n",
       "    </tr>\n",
       "    <tr>\n",
       "      <th>Tetrahydrofolate</th>\n",
       "      <td>135.059869</td>\n",
       "    </tr>\n",
       "    <tr>\n",
       "      <th>Ubiquinol</th>\n",
       "      <td>93.750000</td>\n",
       "    </tr>\n",
       "    <tr>\n",
       "      <th>FAD</th>\n",
       "      <td>105.046564</td>\n",
       "    </tr>\n",
       "    <tr>\n",
       "      <th>NAD+</th>\n",
       "      <td>135.059869</td>\n",
       "    </tr>\n",
       "    <tr>\n",
       "      <th>Thiamine</th>\n",
       "      <td>236.354770</td>\n",
       "    </tr>\n",
       "    <tr>\n",
       "      <th>FMN</th>\n",
       "      <td>236.354770</td>\n",
       "    </tr>\n",
       "    <tr>\n",
       "      <th>Glutathione</th>\n",
       "      <td>315.139693</td>\n",
       "    </tr>\n",
       "    <tr>\n",
       "      <th>CoA</th>\n",
       "      <td>171.169391</td>\n",
       "    </tr>\n",
       "    <tr>\n",
       "      <th>S-Adenosyl-L-methionine</th>\n",
       "      <td>157.569847</td>\n",
       "    </tr>\n",
       "    <tr>\n",
       "      <th>Pyridoxal phosphate</th>\n",
       "      <td>917.497449</td>\n",
       "    </tr>\n",
       "    <tr>\n",
       "      <th>Riboflavin</th>\n",
       "      <td>236.354770</td>\n",
       "    </tr>\n",
       "  </tbody>\n",
       "</table>\n",
       "</div>"
      ],
      "text/plain": [
       "                               Flux\n",
       "NADPH                    135.059869\n",
       "Heme                     236.354770\n",
       "Tetrahydrofolate         135.059869\n",
       "Ubiquinol                 93.750000\n",
       "FAD                      105.046564\n",
       "NAD+                     135.059869\n",
       "Thiamine                 236.354770\n",
       "FMN                      236.354770\n",
       "Glutathione              315.139693\n",
       "CoA                      171.169391\n",
       "S-Adenosyl-L-methionine  157.569847\n",
       "Pyridoxal phosphate      917.497449\n",
       "Riboflavin               236.354770"
      ]
     },
     "execution_count": 53,
     "metadata": {},
     "output_type": "execute_result"
    }
   ],
   "source": [
    "model.test_reaction(\"e_Cofactor__cytop\")"
   ]
  },
  {
   "cell_type": "code",
   "execution_count": 52,
   "metadata": {},
   "outputs": [
    {
     "name": "stderr",
     "output_type": "stream",
     "text": [
      "Could not identify an external compartment by name and choosing one with the most boundary reactions. That might be complete nonsense or change suddenly. Consider renaming your compartments using `Model.compartments` to fix this.\n"
     ]
    },
    {
     "data": {
      "text/html": [
       "<div>\n",
       "<style scoped>\n",
       "    .dataframe tbody tr th:only-of-type {\n",
       "        vertical-align: middle;\n",
       "    }\n",
       "\n",
       "    .dataframe tbody tr th {\n",
       "        vertical-align: top;\n",
       "    }\n",
       "\n",
       "    .dataframe thead th {\n",
       "        text-align: right;\n",
       "    }\n",
       "</style>\n",
       "<table border=\"1\" class=\"dataframe\">\n",
       "  <thead>\n",
       "    <tr style=\"text-align: right;\">\n",
       "      <th></th>\n",
       "      <th>Flux</th>\n",
       "    </tr>\n",
       "  </thead>\n",
       "  <tbody>\n",
       "    <tr>\n",
       "      <th>e-Pigment</th>\n",
       "      <td>1000.000000</td>\n",
       "    </tr>\n",
       "    <tr>\n",
       "      <th>e-RNA</th>\n",
       "      <td>24.195927</td>\n",
       "    </tr>\n",
       "    <tr>\n",
       "      <th>e-Carbohydrate</th>\n",
       "      <td>113.180877</td>\n",
       "    </tr>\n",
       "    <tr>\n",
       "      <th>e-Lipid</th>\n",
       "      <td>1000.000000</td>\n",
       "    </tr>\n",
       "    <tr>\n",
       "      <th>e-DNA</th>\n",
       "      <td>77.213985</td>\n",
       "    </tr>\n",
       "    <tr>\n",
       "      <th>e-Cofactor</th>\n",
       "      <td>1000.000000</td>\n",
       "    </tr>\n",
       "    <tr>\n",
       "      <th>e-Protein</th>\n",
       "      <td>73.853711</td>\n",
       "    </tr>\n",
       "  </tbody>\n",
       "</table>\n",
       "</div>"
      ],
      "text/plain": [
       "                       Flux\n",
       "e-Pigment       1000.000000\n",
       "e-RNA             24.195927\n",
       "e-Carbohydrate   113.180877\n",
       "e-Lipid         1000.000000\n",
       "e-DNA             77.213985\n",
       "e-Cofactor      1000.000000\n",
       "e-Protein         73.853711"
      ]
     },
     "execution_count": 52,
     "metadata": {},
     "output_type": "execute_result"
    }
   ],
   "source": [
    "model.test_reaction(\"e_Biomass__cytop\")"
   ]
  },
  {
   "cell_type": "code",
   "execution_count": 185,
   "metadata": {},
   "outputs": [
    {
     "name": "stdout",
     "output_type": "stream",
     "text": [
      "C00027__chlo\n",
      "============\n",
      "Formula: H2O2\n",
      "\n",
      "Producing Reactions\n",
      "-------------------\n",
      "Empty DataFrame\n",
      "Columns: [Percent, Flux, Reaction, Definition]\n",
      "Index: []\n",
      "\n",
      "Consuming Reactions\n",
      "-------------------\n",
      "Empty DataFrame\n",
      "Columns: [Percent, Flux, Reaction, Definition]\n",
      "Index: []\n"
     ]
    }
   ],
   "source": [
    "with model:\n",
    "    #model.objective=\"R00004__mito\"\n",
    "    sol = model.optimize()\n",
    "    print(model.metabolites.C00027__chlo.summary(sol))"
   ]
  },
  {
   "cell_type": "code",
   "execution_count": 179,
   "metadata": {},
   "outputs": [
    {
     "data": {
      "text/html": [
       "<h3>C00027__chlo</h3><p>H2O2</p><h4>Producing Reactions</h4><table border=\"1\" class=\"dataframe\">\n",
       "  <thead>\n",
       "    <tr style=\"text-align: right;\">\n",
       "      <th>Percent</th>\n",
       "      <th>Flux</th>\n",
       "      <th>Reaction</th>\n",
       "      <th>Definition</th>\n",
       "    </tr>\n",
       "  </thead>\n",
       "  <tbody>\n",
       "  </tbody>\n",
       "</table><h4>Consuming Reactions</h4><table border=\"1\" class=\"dataframe\">\n",
       "  <thead>\n",
       "    <tr style=\"text-align: right;\">\n",
       "      <th>Percent</th>\n",
       "      <th>Flux</th>\n",
       "      <th>Reaction</th>\n",
       "      <th>Definition</th>\n",
       "    </tr>\n",
       "  </thead>\n",
       "  <tbody>\n",
       "  </tbody>\n",
       "</table>"
      ],
      "text/plain": [
       "<cobra.summary.metabolite_summary.MetaboliteSummary at 0x1c748d3ed30>"
      ]
     },
     "execution_count": 179,
     "metadata": {},
     "output_type": "execute_result"
    }
   ],
   "source": [
    "model.metabolites.C00027__chlo.summary(model.optimize())"
   ]
  },
  {
   "cell_type": "code",
   "execution_count": null,
   "metadata": {},
   "outputs": [],
   "source": [
    "model.test_reaction(\"Phosphatidylglycerol__chlo\")"
   ]
  },
  {
   "cell_type": "code",
   "execution_count": null,
   "metadata": {},
   "outputs": [],
   "source": [
    "model.test_reaction(\"Sulfoquinovosyldiacylglycerol__chlo\")"
   ]
  },
  {
   "cell_type": "code",
   "execution_count": null,
   "metadata": {},
   "outputs": [],
   "source": [
    "model.test_reaction(\"sqdg1839z12z15z160_V2__chlo\")"
   ]
  },
  {
   "cell_type": "code",
   "execution_count": null,
   "metadata": {},
   "outputs": [],
   "source": [
    "model.test_reaction(\"Monogalactosyldiglycerol__chlo\")"
   ]
  },
  {
   "cell_type": "code",
   "execution_count": null,
   "metadata": {},
   "outputs": [],
   "source": [
    "model.test_reaction(\"Digalactosyldiacylglycerol__chlo\")"
   ]
  },
  {
   "cell_type": "code",
   "execution_count": null,
   "metadata": {},
   "outputs": [],
   "source": [
    "model.test_reaction(\"Phosphatidylinositol__er\")"
   ]
  },
  {
   "cell_type": "code",
   "execution_count": null,
   "metadata": {},
   "outputs": [],
   "source": [
    "model.test_reaction(\"Phosphatidylethanolamine__er\")"
   ]
  },
  {
   "cell_type": "code",
   "execution_count": null,
   "metadata": {},
   "outputs": [],
   "source": [
    "model.test_reaction(\"Phosphatidylcholine__er\")"
   ]
  },
  {
   "cell_type": "code",
   "execution_count": null,
   "metadata": {},
   "outputs": [],
   "source": [
    "model.test_reaction(\"Triacylglycerol__er\")"
   ]
  },
  {
   "cell_type": "code",
   "execution_count": 32,
   "metadata": {},
   "outputs": [
    {
     "name": "stderr",
     "output_type": "stream",
     "text": [
      "Could not identify an external compartment by name and choosing one with the most boundary reactions. That might be complete nonsense or change suddenly. Consider renaming your compartments using `Model.compartments` to fix this.\n"
     ]
    },
    {
     "data": {
      "text/html": [
       "<div>\n",
       "<style scoped>\n",
       "    .dataframe tbody tr th:only-of-type {\n",
       "        vertical-align: middle;\n",
       "    }\n",
       "\n",
       "    .dataframe tbody tr th {\n",
       "        vertical-align: top;\n",
       "    }\n",
       "\n",
       "    .dataframe thead th {\n",
       "        text-align: right;\n",
       "    }\n",
       "</style>\n",
       "<table border=\"1\" class=\"dataframe\">\n",
       "  <thead>\n",
       "    <tr style=\"text-align: right;\">\n",
       "      <th></th>\n",
       "      <th>Flux</th>\n",
       "    </tr>\n",
       "  </thead>\n",
       "  <tbody>\n",
       "    <tr>\n",
       "      <th>GDP-mannose</th>\n",
       "      <td>1000.0</td>\n",
       "    </tr>\n",
       "    <tr>\n",
       "      <th>UDP-alpha-D-galactose</th>\n",
       "      <td>1000.0</td>\n",
       "    </tr>\n",
       "    <tr>\n",
       "      <th>UDP-D-xylose</th>\n",
       "      <td>1000.0</td>\n",
       "    </tr>\n",
       "    <tr>\n",
       "      <th>Starch</th>\n",
       "      <td>1000.0</td>\n",
       "    </tr>\n",
       "    <tr>\n",
       "      <th>UDP-glucose</th>\n",
       "      <td>1000.0</td>\n",
       "    </tr>\n",
       "    <tr>\n",
       "      <th>UDP-L-arabinose</th>\n",
       "      <td>1000.0</td>\n",
       "    </tr>\n",
       "  </tbody>\n",
       "</table>\n",
       "</div>"
      ],
      "text/plain": [
       "                         Flux\n",
       "GDP-mannose            1000.0\n",
       "UDP-alpha-D-galactose  1000.0\n",
       "UDP-D-xylose           1000.0\n",
       "Starch                 1000.0\n",
       "UDP-glucose            1000.0\n",
       "UDP-L-arabinose        1000.0"
      ]
     },
     "execution_count": 32,
     "metadata": {},
     "output_type": "execute_result"
    }
   ],
   "source": [
    "model.test_reaction(\"e_Carbohydrate__cytop\")"
   ]
  },
  {
   "cell_type": "code",
   "execution_count": 28,
   "metadata": {},
   "outputs": [
    {
     "name": "stderr",
     "output_type": "stream",
     "text": [
      "Could not identify an external compartment by name and choosing one with the most boundary reactions. That might be complete nonsense or change suddenly. Consider renaming your compartments using `Model.compartments` to fix this.\n"
     ]
    },
    {
     "data": {
      "text/html": [
       "<div>\n",
       "<style scoped>\n",
       "    .dataframe tbody tr th:only-of-type {\n",
       "        vertical-align: middle;\n",
       "    }\n",
       "\n",
       "    .dataframe tbody tr th {\n",
       "        vertical-align: top;\n",
       "    }\n",
       "\n",
       "    .dataframe thead th {\n",
       "        text-align: right;\n",
       "    }\n",
       "</style>\n",
       "<table border=\"1\" class=\"dataframe\">\n",
       "  <thead>\n",
       "    <tr style=\"text-align: right;\">\n",
       "      <th></th>\n",
       "      <th>Flux</th>\n",
       "    </tr>\n",
       "  </thead>\n",
       "  <tbody>\n",
       "    <tr>\n",
       "      <th>L-Lysyl-tRNA</th>\n",
       "      <td>472.709540</td>\n",
       "    </tr>\n",
       "    <tr>\n",
       "      <th>L-Aspartyl-tRNA(Asp)</th>\n",
       "      <td>945.419080</td>\n",
       "    </tr>\n",
       "    <tr>\n",
       "      <th>L-Histidyl-tRNA(His)</th>\n",
       "      <td>315.139693</td>\n",
       "    </tr>\n",
       "    <tr>\n",
       "      <th>L-Isoleucyl-tRNA(Ile)</th>\n",
       "      <td>945.419080</td>\n",
       "    </tr>\n",
       "    <tr>\n",
       "      <th>L-Glutamyl-tRNA(Glu)</th>\n",
       "      <td>945.419080</td>\n",
       "    </tr>\n",
       "    <tr>\n",
       "      <th>L-Cysteinyl-tRNA(Cys)</th>\n",
       "      <td>945.419080</td>\n",
       "    </tr>\n",
       "    <tr>\n",
       "      <th>L-Arginyl-tRNA(Arg)</th>\n",
       "      <td>236.354770</td>\n",
       "    </tr>\n",
       "    <tr>\n",
       "      <th>L-Leucyl-tRNA</th>\n",
       "      <td>945.419080</td>\n",
       "    </tr>\n",
       "    <tr>\n",
       "      <th>L-Tyrosyl-tRNA(Tyr)</th>\n",
       "      <td>945.419080</td>\n",
       "    </tr>\n",
       "    <tr>\n",
       "      <th>L-Phenylalanyl-tRNA(Phe)</th>\n",
       "      <td>945.419080</td>\n",
       "    </tr>\n",
       "    <tr>\n",
       "      <th>L-Tryptophanyl-tRNA(Trp)</th>\n",
       "      <td>472.709540</td>\n",
       "    </tr>\n",
       "    <tr>\n",
       "      <th>L-Methionyl-tRNA</th>\n",
       "      <td>945.419080</td>\n",
       "    </tr>\n",
       "    <tr>\n",
       "      <th>L-Alanyl-tRNA</th>\n",
       "      <td>945.419080</td>\n",
       "    </tr>\n",
       "    <tr>\n",
       "      <th>Glutaminyl-tRNA</th>\n",
       "      <td>472.709540</td>\n",
       "    </tr>\n",
       "    <tr>\n",
       "      <th>Glycyl-tRNA(Gly)</th>\n",
       "      <td>945.419080</td>\n",
       "    </tr>\n",
       "    <tr>\n",
       "      <th>L-Asparaginyl-tRNA(Asn)</th>\n",
       "      <td>472.709540</td>\n",
       "    </tr>\n",
       "    <tr>\n",
       "      <th>L-Valyl-tRNA(Val)</th>\n",
       "      <td>945.419080</td>\n",
       "    </tr>\n",
       "    <tr>\n",
       "      <th>L-Prolyl-tRNA(Pro)</th>\n",
       "      <td>945.419080</td>\n",
       "    </tr>\n",
       "    <tr>\n",
       "      <th>L-Threonyl-tRNA(Thr)</th>\n",
       "      <td>945.419080</td>\n",
       "    </tr>\n",
       "    <tr>\n",
       "      <th>L-Seryl-tRNA(Ser)</th>\n",
       "      <td>945.419080</td>\n",
       "    </tr>\n",
       "  </tbody>\n",
       "</table>\n",
       "</div>"
      ],
      "text/plain": [
       "                                Flux\n",
       "L-Lysyl-tRNA              472.709540\n",
       "L-Aspartyl-tRNA(Asp)      945.419080\n",
       "L-Histidyl-tRNA(His)      315.139693\n",
       "L-Isoleucyl-tRNA(Ile)     945.419080\n",
       "L-Glutamyl-tRNA(Glu)      945.419080\n",
       "L-Cysteinyl-tRNA(Cys)     945.419080\n",
       "L-Arginyl-tRNA(Arg)       236.354770\n",
       "L-Leucyl-tRNA             945.419080\n",
       "L-Tyrosyl-tRNA(Tyr)       945.419080\n",
       "L-Phenylalanyl-tRNA(Phe)  945.419080\n",
       "L-Tryptophanyl-tRNA(Trp)  472.709540\n",
       "L-Methionyl-tRNA          945.419080\n",
       "L-Alanyl-tRNA             945.419080\n",
       "Glutaminyl-tRNA           472.709540\n",
       "Glycyl-tRNA(Gly)          945.419080\n",
       "L-Asparaginyl-tRNA(Asn)   472.709540\n",
       "L-Valyl-tRNA(Val)         945.419080\n",
       "L-Prolyl-tRNA(Pro)        945.419080\n",
       "L-Threonyl-tRNA(Thr)      945.419080\n",
       "L-Seryl-tRNA(Ser)         945.419080"
      ]
     },
     "execution_count": 28,
     "metadata": {},
     "output_type": "execute_result"
    }
   ],
   "source": [
    "model.test_reaction(\"e_Protein__cytop\")"
   ]
  },
  {
   "cell_type": "code",
   "execution_count": 37,
   "metadata": {},
   "outputs": [
    {
     "name": "stderr",
     "output_type": "stream",
     "text": [
      "Could not identify an external compartment by name and choosing one with the most boundary reactions. That might be complete nonsense or change suddenly. Consider renaming your compartments using `Model.compartments` to fix this.\n"
     ]
    },
    {
     "data": {
      "text/html": [
       "<div>\n",
       "<style scoped>\n",
       "    .dataframe tbody tr th:only-of-type {\n",
       "        vertical-align: middle;\n",
       "    }\n",
       "\n",
       "    .dataframe tbody tr th {\n",
       "        vertical-align: top;\n",
       "    }\n",
       "\n",
       "    .dataframe thead th {\n",
       "        text-align: right;\n",
       "    }\n",
       "</style>\n",
       "<table border=\"1\" class=\"dataframe\">\n",
       "  <thead>\n",
       "    <tr style=\"text-align: right;\">\n",
       "      <th></th>\n",
       "      <th>Flux</th>\n",
       "    </tr>\n",
       "  </thead>\n",
       "  <tbody>\n",
       "    <tr>\n",
       "      <th>alpha-Carotene</th>\n",
       "      <td>0.0</td>\n",
       "    </tr>\n",
       "    <tr>\n",
       "      <th>Lutein</th>\n",
       "      <td>0.0</td>\n",
       "    </tr>\n",
       "    <tr>\n",
       "      <th>Violaxanthin</th>\n",
       "      <td>0.0</td>\n",
       "    </tr>\n",
       "    <tr>\n",
       "      <th>Zeaxanthin</th>\n",
       "      <td>0.0</td>\n",
       "    </tr>\n",
       "    <tr>\n",
       "      <th>Neoxanthin</th>\n",
       "      <td>0.0</td>\n",
       "    </tr>\n",
       "    <tr>\n",
       "      <th>beta-Carotene</th>\n",
       "      <td>0.0</td>\n",
       "    </tr>\n",
       "  </tbody>\n",
       "</table>\n",
       "</div>"
      ],
      "text/plain": [
       "                Flux\n",
       "alpha-Carotene   0.0\n",
       "Lutein           0.0\n",
       "Violaxanthin     0.0\n",
       "Zeaxanthin       0.0\n",
       "Neoxanthin       0.0\n",
       "beta-Carotene    0.0"
      ]
     },
     "execution_count": 37,
     "metadata": {},
     "output_type": "execute_result"
    }
   ],
   "source": [
    "model.test_reaction(\"e_Pigment__cytop\")"
   ]
  },
  {
   "cell_type": "code",
   "execution_count": null,
   "metadata": {},
   "outputs": [],
   "source": []
  },
  {
   "cell_type": "code",
   "execution_count": null,
   "metadata": {},
   "outputs": [],
   "source": []
  },
  {
   "cell_type": "code",
   "execution_count": null,
   "metadata": {},
   "outputs": [],
   "source": []
  },
  {
   "cell_type": "code",
   "execution_count": null,
   "metadata": {},
   "outputs": [],
   "source": []
  }
 ],
 "metadata": {
  "kernelspec": {
   "display_name": "base",
   "language": "python",
   "name": "python3"
  },
  "language_info": {
   "codemirror_mode": {
    "name": "ipython",
    "version": 3
   },
   "file_extension": ".py",
   "mimetype": "text/x-python",
   "name": "python",
   "nbconvert_exporter": "python",
   "pygments_lexer": "ipython3",
   "version": "3.9.13"
  },
  "orig_nbformat": 4
 },
 "nbformat": 4,
 "nbformat_minor": 2
}
