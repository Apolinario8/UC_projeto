{
 "cells": [
  {
   "cell_type": "code",
   "execution_count": 1,
   "metadata": {},
   "outputs": [],
   "source": [
    "from COBRAmodel import MyModel"
   ]
  },
  {
   "cell_type": "code",
   "execution_count": 6,
   "metadata": {},
   "outputs": [
    {
     "name": "stderr",
     "output_type": "stream",
     "text": [
      "3077 does not conform to 'http(s)://identifiers.org/collection/id' or'http(s)://identifiers.org/COLLECTION:id\n"
     ]
    },
    {
     "name": "stdout",
     "output_type": "stream",
     "text": [
      "Loading\n",
      "\n"
     ]
    },
    {
     "name": "stderr",
     "output_type": "stream",
     "text": [
      "Could not identify an external compartment by name and choosing one with the most boundary reactions. That might be complete nonsense or change suddenly. Consider renaming your compartments using `Model.compartments` to fix this.\n"
     ]
    },
    {
     "name": "stdout",
     "output_type": "stream",
     "text": [
      "Reactions: 6978\n",
      "Metabolites: 7035\n",
      "Genes: 1713\n",
      "Model loaded\n"
     ]
    }
   ],
   "source": [
    "model = MyModel(r\"C:\\Users\\gonca\\OneDrive\\Documentos\\GitHub\\UC_projeto\\model.xml\", \"e_Biomass__cytop\")"
   ]
  },
  {
   "cell_type": "code",
   "execution_count": 24,
   "metadata": {},
   "outputs": [
    {
     "name": "stdout",
     "output_type": "stream",
     "text": [
      "Loading\n",
      "\n"
     ]
    },
    {
     "name": "stderr",
     "output_type": "stream",
     "text": [
      "Could not identify an external compartment by name and choosing one with the most boundary reactions. That might be complete nonsense or change suddenly. Consider renaming your compartments using `Model.compartments` to fix this.\n"
     ]
    },
    {
     "name": "stdout",
     "output_type": "stream",
     "text": [
      "Reactions: 3515\n",
      "Metabolites: 3660\n",
      "Genes: 1690\n",
      "Model loaded\n"
     ]
    }
   ],
   "source": [
    "model1 = MyModel(r\"C:\\Users\\gonca\\OneDrive\\Documentos\\GitHub\\UC_projeto\\model_compare.xml\", \"e_Biomass__cytop\")"
   ]
  },
  {
   "cell_type": "code",
   "execution_count": 34,
   "metadata": {},
   "outputs": [
    {
     "name": "stderr",
     "output_type": "stream",
     "text": [
      "Could not identify an external compartment by name and choosing one with the most boundary reactions. That might be complete nonsense or change suddenly. Consider renaming your compartments using `Model.compartments` to fix this.\n"
     ]
    },
    {
     "data": {
      "text/html": [
       "<div>\n",
       "<style scoped>\n",
       "    .dataframe tbody tr th:only-of-type {\n",
       "        vertical-align: middle;\n",
       "    }\n",
       "\n",
       "    .dataframe tbody tr th {\n",
       "        vertical-align: top;\n",
       "    }\n",
       "\n",
       "    .dataframe thead th {\n",
       "        text-align: right;\n",
       "    }\n",
       "</style>\n",
       "<table border=\"1\" class=\"dataframe\">\n",
       "  <thead>\n",
       "    <tr style=\"text-align: right;\">\n",
       "      <th></th>\n",
       "      <th>Flux</th>\n",
       "    </tr>\n",
       "  </thead>\n",
       "  <tbody>\n",
       "    <tr>\n",
       "      <th>Oxidized plastocyanin</th>\n",
       "      <td>0.000000e+00</td>\n",
       "    </tr>\n",
       "    <tr>\n",
       "      <th>Plastoquinol-9</th>\n",
       "      <td>-2.782129e-16</td>\n",
       "    </tr>\n",
       "    <tr>\n",
       "      <th>H+</th>\n",
       "      <td>9.938255e+01</td>\n",
       "    </tr>\n",
       "  </tbody>\n",
       "</table>\n",
       "</div>"
      ],
      "text/plain": [
       "                               Flux\n",
       "Oxidized plastocyanin  0.000000e+00\n",
       "Plastoquinol-9        -2.782129e-16\n",
       "H+                     9.938255e+01"
      ]
     },
     "execution_count": 34,
     "metadata": {},
     "output_type": "execute_result"
    }
   ],
   "source": [
    "model1.test_reaction(\"R08409__chlo\")"
   ]
  },
  {
   "cell_type": "code",
   "execution_count": 35,
   "metadata": {},
   "outputs": [
    {
     "name": "stderr",
     "output_type": "stream",
     "text": [
      "Could not identify an external compartment by name and choosing one with the most boundary reactions. That might be complete nonsense or change suddenly. Consider renaming your compartments using `Model.compartments` to fix this.\n"
     ]
    },
    {
     "data": {
      "text/html": [
       "<div>\n",
       "<style scoped>\n",
       "    .dataframe tbody tr th:only-of-type {\n",
       "        vertical-align: middle;\n",
       "    }\n",
       "\n",
       "    .dataframe tbody tr th {\n",
       "        vertical-align: top;\n",
       "    }\n",
       "\n",
       "    .dataframe thead th {\n",
       "        text-align: right;\n",
       "    }\n",
       "</style>\n",
       "<table border=\"1\" class=\"dataframe\">\n",
       "  <thead>\n",
       "    <tr style=\"text-align: right;\">\n",
       "      <th></th>\n",
       "      <th>Flux</th>\n",
       "    </tr>\n",
       "  </thead>\n",
       "  <tbody>\n",
       "    <tr>\n",
       "      <th>Oxidized plastocyanin</th>\n",
       "      <td>0.0</td>\n",
       "    </tr>\n",
       "    <tr>\n",
       "      <th>Plastoquinol-9</th>\n",
       "      <td>0.0</td>\n",
       "    </tr>\n",
       "  </tbody>\n",
       "</table>\n",
       "</div>"
      ],
      "text/plain": [
       "                       Flux\n",
       "Oxidized plastocyanin   0.0\n",
       "Plastoquinol-9          0.0"
      ]
     },
     "execution_count": 35,
     "metadata": {},
     "output_type": "execute_result"
    }
   ],
   "source": [
    "model.test_reaction(\"R08409__chlo\")"
   ]
  },
  {
   "cell_type": "code",
   "execution_count": null,
   "metadata": {},
   "outputs": [],
   "source": [
    "model.test_reaction(\"e_Biomass__cytop\")"
   ]
  },
  {
   "cell_type": "code",
   "execution_count": 185,
   "metadata": {},
   "outputs": [
    {
     "name": "stdout",
     "output_type": "stream",
     "text": [
      "C00027__chlo\n",
      "============\n",
      "Formula: H2O2\n",
      "\n",
      "Producing Reactions\n",
      "-------------------\n",
      "Empty DataFrame\n",
      "Columns: [Percent, Flux, Reaction, Definition]\n",
      "Index: []\n",
      "\n",
      "Consuming Reactions\n",
      "-------------------\n",
      "Empty DataFrame\n",
      "Columns: [Percent, Flux, Reaction, Definition]\n",
      "Index: []\n"
     ]
    }
   ],
   "source": [
    "with model:\n",
    "    #model.objective=\"R00004__mito\"\n",
    "    sol = model.optimize()\n",
    "    print(model.metabolites.C00027__chlo.summary(sol))"
   ]
  },
  {
   "cell_type": "code",
   "execution_count": null,
   "metadata": {},
   "outputs": [],
   "source": [
    "model.test_reaction(\"Phosphatidylglycerol__chlo\")"
   ]
  },
  {
   "cell_type": "code",
   "execution_count": null,
   "metadata": {},
   "outputs": [],
   "source": [
    "model.test_reaction(\"Sulfoquinovosyldiacylglycerol__chlo\")"
   ]
  },
  {
   "cell_type": "code",
   "execution_count": null,
   "metadata": {},
   "outputs": [],
   "source": [
    "model.test_reaction(\"sqdg1839z12z15z160_V2__chlo\")"
   ]
  },
  {
   "cell_type": "code",
   "execution_count": null,
   "metadata": {},
   "outputs": [],
   "source": [
    "model.test_reaction(\"Monogalactosyldiglycerol__chlo\")"
   ]
  },
  {
   "cell_type": "code",
   "execution_count": null,
   "metadata": {},
   "outputs": [],
   "source": [
    "model.test_reaction(\"Digalactosyldiacylglycerol__chlo\")"
   ]
  },
  {
   "cell_type": "code",
   "execution_count": null,
   "metadata": {},
   "outputs": [],
   "source": [
    "model.test_reaction(\"Phosphatidylinositol__er\")"
   ]
  },
  {
   "cell_type": "code",
   "execution_count": null,
   "metadata": {},
   "outputs": [],
   "source": [
    "model.test_reaction(\"Phosphatidylethanolamine__er\")"
   ]
  },
  {
   "cell_type": "code",
   "execution_count": null,
   "metadata": {},
   "outputs": [],
   "source": [
    "model.test_reaction(\"Phosphatidylcholine__er\")"
   ]
  },
  {
   "cell_type": "code",
   "execution_count": null,
   "metadata": {},
   "outputs": [],
   "source": [
    "model.test_reaction(\"Triacylglycerol__er\")"
   ]
  },
  {
   "cell_type": "code",
   "execution_count": 28,
   "metadata": {},
   "outputs": [
    {
     "name": "stderr",
     "output_type": "stream",
     "text": [
      "Could not identify an external compartment by name and choosing one with the most boundary reactions. That might be complete nonsense or change suddenly. Consider renaming your compartments using `Model.compartments` to fix this.\n"
     ]
    },
    {
     "data": {
      "text/html": [
       "<div>\n",
       "<style scoped>\n",
       "    .dataframe tbody tr th:only-of-type {\n",
       "        vertical-align: middle;\n",
       "    }\n",
       "\n",
       "    .dataframe tbody tr th {\n",
       "        vertical-align: top;\n",
       "    }\n",
       "\n",
       "    .dataframe thead th {\n",
       "        text-align: right;\n",
       "    }\n",
       "</style>\n",
       "<table border=\"1\" class=\"dataframe\">\n",
       "  <thead>\n",
       "    <tr style=\"text-align: right;\">\n",
       "      <th></th>\n",
       "      <th>Flux</th>\n",
       "    </tr>\n",
       "  </thead>\n",
       "  <tbody>\n",
       "    <tr>\n",
       "      <th>L-Lysyl-tRNA</th>\n",
       "      <td>472.709540</td>\n",
       "    </tr>\n",
       "    <tr>\n",
       "      <th>L-Aspartyl-tRNA(Asp)</th>\n",
       "      <td>945.419080</td>\n",
       "    </tr>\n",
       "    <tr>\n",
       "      <th>L-Histidyl-tRNA(His)</th>\n",
       "      <td>315.139693</td>\n",
       "    </tr>\n",
       "    <tr>\n",
       "      <th>L-Isoleucyl-tRNA(Ile)</th>\n",
       "      <td>945.419080</td>\n",
       "    </tr>\n",
       "    <tr>\n",
       "      <th>L-Glutamyl-tRNA(Glu)</th>\n",
       "      <td>945.419080</td>\n",
       "    </tr>\n",
       "    <tr>\n",
       "      <th>L-Cysteinyl-tRNA(Cys)</th>\n",
       "      <td>945.419080</td>\n",
       "    </tr>\n",
       "    <tr>\n",
       "      <th>L-Arginyl-tRNA(Arg)</th>\n",
       "      <td>236.354770</td>\n",
       "    </tr>\n",
       "    <tr>\n",
       "      <th>L-Leucyl-tRNA</th>\n",
       "      <td>945.419080</td>\n",
       "    </tr>\n",
       "    <tr>\n",
       "      <th>L-Tyrosyl-tRNA(Tyr)</th>\n",
       "      <td>945.419080</td>\n",
       "    </tr>\n",
       "    <tr>\n",
       "      <th>L-Phenylalanyl-tRNA(Phe)</th>\n",
       "      <td>945.419080</td>\n",
       "    </tr>\n",
       "    <tr>\n",
       "      <th>L-Tryptophanyl-tRNA(Trp)</th>\n",
       "      <td>472.709540</td>\n",
       "    </tr>\n",
       "    <tr>\n",
       "      <th>L-Methionyl-tRNA</th>\n",
       "      <td>945.419080</td>\n",
       "    </tr>\n",
       "    <tr>\n",
       "      <th>L-Alanyl-tRNA</th>\n",
       "      <td>945.419080</td>\n",
       "    </tr>\n",
       "    <tr>\n",
       "      <th>Glutaminyl-tRNA</th>\n",
       "      <td>472.709540</td>\n",
       "    </tr>\n",
       "    <tr>\n",
       "      <th>Glycyl-tRNA(Gly)</th>\n",
       "      <td>945.419080</td>\n",
       "    </tr>\n",
       "    <tr>\n",
       "      <th>L-Asparaginyl-tRNA(Asn)</th>\n",
       "      <td>472.709540</td>\n",
       "    </tr>\n",
       "    <tr>\n",
       "      <th>L-Valyl-tRNA(Val)</th>\n",
       "      <td>945.419080</td>\n",
       "    </tr>\n",
       "    <tr>\n",
       "      <th>L-Prolyl-tRNA(Pro)</th>\n",
       "      <td>945.419080</td>\n",
       "    </tr>\n",
       "    <tr>\n",
       "      <th>L-Threonyl-tRNA(Thr)</th>\n",
       "      <td>945.419080</td>\n",
       "    </tr>\n",
       "    <tr>\n",
       "      <th>L-Seryl-tRNA(Ser)</th>\n",
       "      <td>945.419080</td>\n",
       "    </tr>\n",
       "  </tbody>\n",
       "</table>\n",
       "</div>"
      ],
      "text/plain": [
       "                                Flux\n",
       "L-Lysyl-tRNA              472.709540\n",
       "L-Aspartyl-tRNA(Asp)      945.419080\n",
       "L-Histidyl-tRNA(His)      315.139693\n",
       "L-Isoleucyl-tRNA(Ile)     945.419080\n",
       "L-Glutamyl-tRNA(Glu)      945.419080\n",
       "L-Cysteinyl-tRNA(Cys)     945.419080\n",
       "L-Arginyl-tRNA(Arg)       236.354770\n",
       "L-Leucyl-tRNA             945.419080\n",
       "L-Tyrosyl-tRNA(Tyr)       945.419080\n",
       "L-Phenylalanyl-tRNA(Phe)  945.419080\n",
       "L-Tryptophanyl-tRNA(Trp)  472.709540\n",
       "L-Methionyl-tRNA          945.419080\n",
       "L-Alanyl-tRNA             945.419080\n",
       "Glutaminyl-tRNA           472.709540\n",
       "Glycyl-tRNA(Gly)          945.419080\n",
       "L-Asparaginyl-tRNA(Asn)   472.709540\n",
       "L-Valyl-tRNA(Val)         945.419080\n",
       "L-Prolyl-tRNA(Pro)        945.419080\n",
       "L-Threonyl-tRNA(Thr)      945.419080\n",
       "L-Seryl-tRNA(Ser)         945.419080"
      ]
     },
     "execution_count": 28,
     "metadata": {},
     "output_type": "execute_result"
    }
   ],
   "source": [
    "model.test_reaction(\"e_Protein__cytop\")"
   ]
  },
  {
   "cell_type": "code",
   "execution_count": null,
   "metadata": {},
   "outputs": [],
   "source": []
  },
  {
   "cell_type": "code",
   "execution_count": null,
   "metadata": {},
   "outputs": [],
   "source": []
  },
  {
   "cell_type": "code",
   "execution_count": null,
   "metadata": {},
   "outputs": [],
   "source": []
  }
 ],
 "metadata": {
  "kernelspec": {
   "display_name": "base",
   "language": "python",
   "name": "python3"
  },
  "language_info": {
   "codemirror_mode": {
    "name": "ipython",
    "version": 3
   },
   "file_extension": ".py",
   "mimetype": "text/x-python",
   "name": "python",
   "nbconvert_exporter": "python",
   "pygments_lexer": "ipython3",
   "version": "3.9.13"
  },
  "orig_nbformat": 4
 },
 "nbformat": 4,
 "nbformat_minor": 2
}
