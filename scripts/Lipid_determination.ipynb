{
 "cells": [
  {
   "cell_type": "code",
   "execution_count": 4,
   "metadata": {},
   "outputs": [],
   "source": [
    "arquivo = open(r'C:\\\\Users\\\\gonca\\\\OneDrive\\\\Documentos\\\\GitHub\\\\UC_projeto\\\\Chlorella_UTEX-395_Raven\\\\biomass.txt', 'r')"
   ]
  },
  {
   "cell_type": "code",
   "execution_count": 5,
   "metadata": {},
   "outputs": [
    {
     "name": "stdout",
     "output_type": "stream",
     "text": [
      "Soma dos valores de 'tag': 0.08239870000000002\n"
     ]
    }
   ],
   "source": [
    "import re\n",
    "conteudo = arquivo.read()\n",
    "\n",
    "padrao = r'(\\d+\\.\\d+)\\s+tag'\n",
    "\n",
    "ocorrencias = re.findall(padrao, conteudo)\n",
    "\n",
    "soma = sum(float(valor) for valor in ocorrencias)\n",
    "\n",
    "print(f\"Soma dos valores de 'tag': {soma}\")"
   ]
  },
  {
   "cell_type": "code",
   "execution_count": 6,
   "metadata": {},
   "outputs": [
    {
     "name": "stdout",
     "output_type": "stream",
     "text": [
      "Soma dos valores de 'pail': 0.0021777899999999998\n"
     ]
    }
   ],
   "source": [
    "arquivo = open(r'C:\\\\Users\\\\gonca\\\\OneDrive\\\\Documentos\\\\GitHub\\\\UC_projeto\\\\Chlorella_UTEX-395_Raven\\\\biomass.txt', 'r')\n",
    "conteudo = arquivo.read()\n",
    "\n",
    "padrao = r'(\\d+\\.\\d+)\\s+pail'\n",
    "\n",
    "ocorrencias = re.findall(padrao, conteudo)\n",
    "\n",
    "soma = sum(float(valor) for valor in ocorrencias)\n",
    "\n",
    "print(f\"Soma dos valores de 'pail': {soma}\")"
   ]
  },
  {
   "cell_type": "code",
   "execution_count": 8,
   "metadata": {},
   "outputs": [
    {
     "name": "stdout",
     "output_type": "stream",
     "text": [
      "Soma dos valores de 'pc': 0.048204800000000006\n"
     ]
    }
   ],
   "source": [
    "arquivo = open(r'C:\\\\Users\\\\gonca\\\\OneDrive\\\\Documentos\\\\GitHub\\\\UC_projeto\\\\Chlorella_UTEX-395_Raven\\\\biomass.txt', 'r')\n",
    "conteudo = arquivo.read()\n",
    "\n",
    "padrao = r'(\\d+\\.\\d+)\\s+pc'\n",
    "\n",
    "ocorrencias = re.findall(padrao, conteudo)\n",
    "\n",
    "soma = sum(float(valor) for valor in ocorrencias)\n",
    "\n",
    "print(f\"Soma dos valores de 'pc': {soma}\")"
   ]
  },
  {
   "cell_type": "code",
   "execution_count": 9,
   "metadata": {},
   "outputs": [
    {
     "name": "stdout",
     "output_type": "stream",
     "text": [
      "Soma dos valores de 'dgdg': 0.07873610000000002\n"
     ]
    }
   ],
   "source": [
    "arquivo = open(r'C:\\\\Users\\\\gonca\\\\OneDrive\\\\Documentos\\\\GitHub\\\\UC_projeto\\\\Chlorella_UTEX-395_Raven\\\\biomass.txt', 'r')\n",
    "conteudo = arquivo.read()\n",
    "\n",
    "padrao = r'(\\d+\\.\\d+)\\s+dgdg'\n",
    "\n",
    "ocorrencias = re.findall(padrao, conteudo)\n",
    "\n",
    "soma = sum(float(valor) for valor in ocorrencias)\n",
    "\n",
    "print(f\"Soma dos valores de 'dgdg': {soma}\")"
   ]
  },
  {
   "cell_type": "code",
   "execution_count": 10,
   "metadata": {},
   "outputs": [
    {
     "name": "stdout",
     "output_type": "stream",
     "text": [
      "Soma dos valores de 'dmgdg': 0.131289\n"
     ]
    }
   ],
   "source": [
    "arquivo = open(r'C:\\\\Users\\\\gonca\\\\OneDrive\\\\Documentos\\\\GitHub\\\\UC_projeto\\\\Chlorella_UTEX-395_Raven\\\\biomass.txt', 'r')\n",
    "conteudo = arquivo.read()\n",
    "\n",
    "padrao = r'(\\d+\\.\\d+)\\s+mgdg'\n",
    "\n",
    "ocorrencias = re.findall(padrao, conteudo)\n",
    "\n",
    "soma = sum(float(valor) for valor in ocorrencias)\n",
    "\n",
    "print(f\"Soma dos valores de 'mgdg': {soma}\")"
   ]
  },
  {
   "cell_type": "code",
   "execution_count": 11,
   "metadata": {},
   "outputs": [
    {
     "name": "stdout",
     "output_type": "stream",
     "text": [
      "Soma dos valores de 'sqdg': 0.028007800000000003\n"
     ]
    }
   ],
   "source": [
    "arquivo = open(r'C:\\\\Users\\\\gonca\\\\OneDrive\\\\Documentos\\\\GitHub\\\\UC_projeto\\\\Chlorella_UTEX-395_Raven\\\\biomass.txt', 'r')\n",
    "conteudo = arquivo.read()\n",
    "\n",
    "padrao = r'(\\d+\\.\\d+)\\s+sqdg'\n",
    "\n",
    "ocorrencias = re.findall(padrao, conteudo)\n",
    "\n",
    "soma = sum(float(valor) for valor in ocorrencias)\n",
    "\n",
    "print(f\"Soma dos valores de 'sqdg': {soma}\")"
   ]
  },
  {
   "cell_type": "code",
   "execution_count": 12,
   "metadata": {},
   "outputs": [
    {
     "name": "stdout",
     "output_type": "stream",
     "text": [
      "Soma dos valores de 'pe': 0.054545539999999997\n"
     ]
    }
   ],
   "source": [
    "arquivo = open(r'C:\\\\Users\\\\gonca\\\\OneDrive\\\\Documentos\\\\GitHub\\\\UC_projeto\\\\Chlorella_UTEX-395_Raven\\\\biomass.txt', 'r')\n",
    "conteudo = arquivo.read()\n",
    "\n",
    "padrao = r'(\\d+\\.\\d+)\\s+pe'\n",
    "\n",
    "ocorrencias = re.findall(padrao, conteudo)\n",
    "\n",
    "soma = sum(float(valor) for valor in ocorrencias)\n",
    "\n",
    "print(f\"Soma dos valores de 'pe': {soma}\")"
   ]
  }
 ],
 "metadata": {
  "kernelspec": {
   "display_name": "base",
   "language": "python",
   "name": "python3"
  },
  "language_info": {
   "codemirror_mode": {
    "name": "ipython",
    "version": 3
   },
   "file_extension": ".py",
   "mimetype": "text/x-python",
   "name": "python",
   "nbconvert_exporter": "python",
   "pygments_lexer": "ipython3",
   "version": "3.9.13"
  },
  "orig_nbformat": 4
 },
 "nbformat": 4,
 "nbformat_minor": 2
}
