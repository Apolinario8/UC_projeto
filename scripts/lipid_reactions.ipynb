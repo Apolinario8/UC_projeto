{
 "cells": [
  {
   "cell_type": "code",
   "execution_count": 3,
   "metadata": {},
   "outputs": [],
   "source": [
    "import re\n",
    "\n",
    "def has_numbers(string):\n",
    "    return bool(re.search(r'\\d', string))"
   ]
  },
  {
   "cell_type": "code",
   "execution_count": null,
   "metadata": {},
   "outputs": [],
   "source": [
    "def get_formula(metabolite):\n",
    "    return None"
   ]
  },
  {
   "cell_type": "code",
   "execution_count": 39,
   "metadata": {},
   "outputs": [],
   "source": [
    "def get_reactions_pe(fa1, fa2):\n",
    "    if has_numbers(fa1) and has_numbers(fa2):\n",
    "        reaction1 = f\"({fa1}) + sn-Glycerol 3-phosphate => CoA + 1-({fa1})-sn-glycero-3-phosphate\"  \n",
    "        reaction2 = f\"({fa2}) + 1-({fa1})-sn-glycero-3-phosphate => CoA + ({fa1})-2-({fa2})-sn-glycero-3-phosphate\"\n",
    "        reaction3 = f\"({fa1})-2-({fa2})-sn-glycero-3-phosphate + H2O => ({fa1})-2-({fa2})-sn-glycerol + Orthophosphate\"\n",
    "        reaction4 = f\"({fa1})-2-({fa2})-sn-glycerol + CDP-ethanolamine => ({fa1})-2-({fa2})-sn-glycero-3-phosphoethanolamine + CMP\"\n",
    "\n",
    "        count_z = fa2.count(\"Z\")\n",
    "        parts = fa2.split(\"-\")\n",
    "        z = parts[0].replace(\",\", \"\")\n",
    "        count_z_ = fa1.count(\"Z\")\n",
    "        parts_ = fa1.split(\"-\")\n",
    "        z_ = parts_[0].replace(\",\", \"\")\n",
    "\n",
    "        reaction11 = \"fa1ID + C00093 --> C00010 + BMGCfa1ID\"\n",
    "        reaction22 = f\"fa18{count_z}{z}CoA + BMGCfa1ID --> C00010 + pa18{count_z_}{z_}16{count_z}{z}CoA\"\n",
    "        reaction33 = f\"pa18{count_z_}{z_}16{count_z}{z}CoA + C00001 --> dag18{count_z_}{z_}16{count_z}{z}CoA\"\n",
    "        reaction44 = f\"dag18{count_z_}{z_}16{count_z}{z}CoA + C00570 --> pe18{count_z_}{z_}16{count_z}{z}CoA\"\n",
    "\n",
    "    return print(reaction1,\"\\n\", reaction11, \"\\n\\n\",reaction2,\"\\n\", reaction22,\"\\n\\n\", \"\\n\",reaction3, \"\\n\",reaction33,\"\\n\\n\",reaction4,\"\\n\", reaction44)"
   ]
  },
  {
   "cell_type": "code",
   "execution_count": 40,
   "metadata": {},
   "outputs": [
    {
     "name": "stdout",
     "output_type": "stream",
     "text": [
      "(11Z-octadecenoyl-CoA) + sn-Glycerol 3-phosphate => CoA + 1-(11Z-octadecenoyl-CoA)-sn-glycero-3-phosphate \n",
      " fa1ID + C00093 --> C00010 + BMGCfa1ID \n",
      "\n",
      " (5Z,9Z,12Z-octadecatrienoyl-CoA) + 1-(11Z-octadecenoyl-CoA)-sn-glycero-3-phosphate => CoA + (11Z-octadecenoyl-CoA)-2-(5Z,9Z,12Z-octadecatrienoyl-CoA)-sn-glycero-3-phosphate \n",
      " fa1835Z9Z12ZCoA + BMGCfa1ID --> C00010 + pa18111Z1635Z9Z12ZCoA \n",
      "\n",
      " \n",
      " (11Z-octadecenoyl-CoA)-2-(5Z,9Z,12Z-octadecatrienoyl-CoA)-sn-glycero-3-phosphate + H2O => (11Z-octadecenoyl-CoA)-2-(5Z,9Z,12Z-octadecatrienoyl-CoA)-sn-glycerol + Orthophosphate \n",
      " pa18111Z1635Z9Z12ZCoA + C00001 --> dag18111Z1635Z9Z12ZCoA \n",
      "\n",
      " (11Z-octadecenoyl-CoA)-2-(5Z,9Z,12Z-octadecatrienoyl-CoA)-sn-glycerol + CDP-ethanolamine => (11Z-octadecenoyl-CoA)-2-(5Z,9Z,12Z-octadecatrienoyl-CoA)-sn-glycero-3-phosphoethanolamine + CMP \n",
      " dag18111Z1635Z9Z12ZCoA + C00570 --> pe18111Z1635Z9Z12ZCoA\n"
     ]
    }
   ],
   "source": [
    "fa1 = \"11Z-octadecenoyl-CoA\"\n",
    "fa2 = \"5Z,9Z,12Z-octadecatrienoyl-CoA\"\n",
    "\n",
    "get_reactions_pe(fa1, fa2)"
   ]
  }
 ],
 "metadata": {
  "kernelspec": {
   "display_name": "base",
   "language": "python",
   "name": "python3"
  },
  "language_info": {
   "codemirror_mode": {
    "name": "ipython",
    "version": 3
   },
   "file_extension": ".py",
   "mimetype": "text/x-python",
   "name": "python",
   "nbconvert_exporter": "python",
   "pygments_lexer": "ipython3",
   "version": "3.9.13"
  },
  "orig_nbformat": 4
 },
 "nbformat": 4,
 "nbformat_minor": 2
}
