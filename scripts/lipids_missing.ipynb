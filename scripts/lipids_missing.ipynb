{
 "cells": [
  {
   "cell_type": "code",
   "execution_count": 1,
   "metadata": {},
   "outputs": [
    {
     "name": "stderr",
     "output_type": "stream",
     "text": [
      "'' is not a valid SBML 'SId'.\n",
      "No objective coefficients in model. Unclear what should be optimized\n"
     ]
    }
   ],
   "source": [
    "from cobra.io import read_sbml_model\n",
    "\n",
    "model = read_sbml_model('model_lipids_cyano_yo.xml')"
   ]
  },
  {
   "cell_type": "code",
   "execution_count": null,
   "metadata": {},
   "outputs": [],
   "source": [
    "def myfunction(model, metabolito, current_path=None): # nao funciona\n",
    "    if current_path is None:\n",
    "        current_path = []\n",
    "\n",
    "    reactions_with_metabolite = []\n",
    "\n",
    "    for reaction in model.reactions:\n",
    "            if reaction.id.startswith(\"BMGR\") and any(metabolito in product.id for product in reaction.products):\n",
    "                reactions_with_metabolite.append(reaction.id)\n",
    "\n",
    "    if not reactions_with_metabolite:\n",
    "        return None\n",
    "\n",
    "    for reaction in reactions_with_metabolite:\n",
    "        if reaction not in current_path:\n",
    "            current_path.append(reaction) \n",
    "\n",
    "            for reactant in model.reactions.get_by_id(reaction).reactants:\n",
    "                if reactant.id.startswith(\"BMGC\"):\n",
    "                    path = myfunction(model, reactant.id, current_path.copy())  \n",
    "                    if path:\n",
    "                        return path\n",
    "            \n",
    "            current_path.remove(reaction)\n",
    "\n",
    "    return None"
   ]
  },
  {
   "cell_type": "code",
   "execution_count": null,
   "metadata": {},
   "outputs": [],
   "source": [
    "metabolito = [\"BMGC3716__cytop\"]\n",
    "reactions_with_metabolite = []\n",
    "\n",
    "for reaction in model.reactions:\n",
    "    if reaction.id.startswith(\"BMGR\") and any(product.id in metabolito for product in reaction.products):\n",
    "        reactions_with_metabolite.append(reaction.id)\n",
    "\n",
    "for reaction in reactions_with_metabolite:\n",
    "    for reactant in model.reactions.get_by_id(reaction).reactants:\n",
    "        if reactant.id.startswith(\"BMGC\"):\n",
    "            print(reactant)\n",
    "                #if reactant.id.startswith(\"BMGC\"):\n",
    "\n",
    "\n",
    "#reactions_with_metabolite"
   ]
  },
  {
   "cell_type": "code",
   "execution_count": 2,
   "metadata": {},
   "outputs": [],
   "source": [
    "def find_path_reactions(model, metabolito, current_path=None, visited_reactions=None):    #funcioonaa, acho\n",
    "    if current_path is None:\n",
    "        current_path = []\n",
    "    if visited_reactions is None:\n",
    "        visited_reactions = set()\n",
    "\n",
    "    reactions_with_metabolite = []\n",
    "\n",
    "    for reaction in model.reactions:\n",
    "        if reaction.id.startswith(\"BMGR\") and any(product.id == metabolito for product in reaction.products):\n",
    "            reactions_with_metabolite.append(reaction)\n",
    "\n",
    "    if not reactions_with_metabolite:\n",
    "        return None\n",
    "\n",
    "    for reaction in reactions_with_metabolite:\n",
    "        if reaction.id not in visited_reactions:\n",
    "            visited_reactions.add(reaction.id)\n",
    "            current_path.append(reaction.id)\n",
    "\n",
    "            for reactant in reaction.reactants:\n",
    "                if reactant.id.startswith(\"BMGC\"):\n",
    "                    path = find_path_reactions(model, reactant.id, current_path, visited_reactions)\n",
    "                    if path:\n",
    "                        return path\n",
    "\n",
    "            current_path.pop()\n",
    "            visited_reactions.remove(reaction.id)\n",
    "\n",
    "    return current_path"
   ]
  },
  {
   "cell_type": "markdown",
   "metadata": {},
   "source": [
    "Phospathylglycerol"
   ]
  },
  {
   "cell_type": "code",
   "execution_count": 3,
   "metadata": {},
   "outputs": [
    {
     "name": "stdout",
     "output_type": "stream",
     "text": [
      "Path to BMGC3716__cytop:\n",
      "['BMGR0453__cytop', 'BMGR0502__cytop', 'BMGR0560__cytop', 'BMGR0169__cytop']\n"
     ]
    }
   ],
   "source": [
    "metabolitos = [\"BMGC3716__cytop\"]\n",
    "pathway = find_path_reactions(model, metabolitos[0])\n",
    "\n",
    "print(\"Path to BMGC3716__cytop:\")\n",
    "print(pathway)"
   ]
  },
  {
   "cell_type": "code",
   "execution_count": 4,
   "metadata": {},
   "outputs": [
    {
     "name": "stdout",
     "output_type": "stream",
     "text": [
      "(9Z,12Z,15Z)-Octadecatrienoyl-CoA + sn-Glycerol 3-phosphate => CoA + 1-(9Z,12Z,15Z-octadecatrienoyl)-sn-glycero-3-phosphate\n",
      "\n",
      "BMGC403__cytop + C00154__cytop --> BMGC34690__cytop + C00010__cytop\n",
      "Reação:  BMGR0169__cytop     Equação ----> Palmitoyl-CoA + 1-(9Z,12Z,15Z-octadecatrienoyl)-sn-glycero-3-phosphate => CoA + 1-(9Z,12Z,15Z-octadecatrienoyl)-2-hexadecanoyl-sn-glycero-3-phosphate\n",
      "\n",
      "BMGC34690__cytop + C00063__cytop --> BMGC524331__cytop + C00013__cytop\n",
      "Reação:  BMGR0560__cytop     Equação ----> H+ + Phosphatidate + CTP => Diphosphate + CDP-diacylglycerol\n",
      "\n",
      "BMGC524331__cytop + C00093__cytop --> BMGC293319__cytop + C00055__cytop + C00080__cytop\n",
      "Reação:  BMGR0502__cytop     Equação ----> sn-Glycerol 3-phosphate + CDP-diacylglycerol => CMP + H+ + Phosphatidylglycerophosphate\n",
      "\n",
      "BMGC293319__cytop + C00001__cytop --> BMGC3716__cytop + C00009__cytop\n",
      "Reação:  BMGR0453__cytop     Equação ----> H2O + Phosphatidylglycerophosphate => Orthophosphate + Phosphatidylglycerol\n",
      "\n"
     ]
    }
   ],
   "source": [
    "print(model.reactions.get_by_id(\"BMGR3419__cytop\").name)\n",
    "print()\n",
    "for x in pathway[::-1]:\n",
    "   print(model.reactions.get_by_id(x).reaction)\n",
    "   print(\"Reação: \", x, \"    Equação ---->\", model.reactions.get_by_id(x).name)\n",
    "   print()\n",
    "pathway.append(model.reactions.get_by_id(\"BMGR3419__cytop\").id)"
   ]
  },
  {
   "cell_type": "markdown",
   "metadata": {},
   "source": [
    "tryacilglycerol"
   ]
  },
  {
   "cell_type": "code",
   "execution_count": 13,
   "metadata": {},
   "outputs": [
    {
     "name": "stdout",
     "output_type": "stream",
     "text": [
      "Path to BMGC3716__cytop:\n",
      "['BMGR5772__cytop', 'BMGR5826__cytop', 'BMGR5691__cytop', 'BMGR5948__cytop', 'BMGR5901__cytop', 'BMGR5377__cytop', 'BMGR1019__cytop', 'BMGR5663__cytop', 'BMGR5950__cytop', 'BMGR5902__cytop', 'BMGR0970__cytop', 'BMGR1117__cytop', 'BMGR1162__cytop', 'BMGR0006__cytop', 'BMGR5960__cytop', 'BMGR1334__cytop', 'BMGR0602__cytop', 'BMGR0161__cytop']\n"
     ]
    }
   ],
   "source": [
    "metabolitos = [\"BMGC99062__cytop\"]\n",
    "pathway = find_path_reactions(model, metabolitos[0])\n",
    "\n",
    "print(\"Path to BMGC3716__cytop:\")\n",
    "print(pathway)"
   ]
  },
  {
   "cell_type": "code",
   "execution_count": null,
   "metadata": {},
   "outputs": [],
   "source": [
    "with open('test.txt', 'w') as file:    #passar para um .txt\n",
    "    print(model.reactions.get_by_id(\"BMGR0441__cytop\").name, file=file)\n",
    "    print()\n",
    "\n",
    "    for x in pathway[::-1]:\n",
    "        print(model.reactions.get_by_id(x).reaction, file=file)\n",
    "        print(\"Reação: \", x, \"    Equação ---->\", model.reactions.get_by_id(x).name, file=file)\n",
    "        print()"
   ]
  },
  {
   "cell_type": "code",
   "execution_count": 6,
   "metadata": {},
   "outputs": [
    {
     "name": "stdout",
     "output_type": "stream",
     "text": [
      "sn-Glycerol 3-phosphate + Linoleoyl-CoA => 1-(9Z,12Z-octadecadienoyl)-sn-glycero-3-phosphate + CoA\n",
      "\n",
      "BMGC401__cytop + C02050__cytop --> BMGC38415__cytop + C00010__cytop\n",
      "Reação:  BMGR0161__cytop     Equação ----> Linoleoyl-CoA + 1-(9Z,12Z-octadecadienoyl)-sn-glycero-3-phosphate => CoA + 1,2-di-(9Z,12Z-octadecadienoyl)-sn-glycero-3-phosphate\n",
      "\n",
      "BMGC38415__cytop + C00063__cytop --> BMGC239951__cytop + C00013__cytop\n",
      "Reação:  BMGR0602__cytop     Equação ----> H+ + Phosphatidate + CTP => Diphosphate + CDP-diacylglycerol\n",
      "\n",
      "BMGC239951__cytop + C00137__cytop --> BMGC43111__cytop + C00055__cytop + C00080__cytop\n",
      "Reação:  BMGR1334__cytop     Equação ----> myo-Inositol + CDP-1,2-di-(9Z,12Z-octadecadienoyl)-sn-glycerol => 1,2-di-(9Z,12Z-octadecadienoyl)-sn-glycero-3-phospho-1D-myo-inositol + CMP + H+\n",
      "\n",
      "BMGC43111__cytop + C00001__cytop --> BMGC68217__cytop + C00080__cytop + C01177__cytop\n",
      "Reação:  BMGR5960__cytop     Equação ----> 1,2-di-(9Z,12Z-octadecadienoyl)-sn-glycero-3-phospho-1D-myo-inositol + H2O => 1,2-di-(9Z,12Z-octadecadienoyl)-sn-glycerol + H+ + Inositol 1-phosphate\n",
      "\n",
      "BMGC68217__cytop + C00570__cytop --> BMGC12582__cytop + C00055__cytop + C00080__cytop\n",
      "Reação:  BMGR0006__cytop     Equação ----> 1,2-Diacyl-sn-glycerol + CDP-ethanolamine => Phosphatidylethanolamine + CMP + H+\n",
      "\n",
      "BMGC12582__cytop + C00019__cytop --> BMGC722755__cytop + C00021__cytop + C00080__cytop\n",
      "Reação:  BMGR1162__cytop     Equação ----> S-Adenosyl-L-methionine + Phosphatidylethanolamine => S-Adenosyl-L-homocysteine + H+ + Phosphatidyl-N-methylethanolamine\n",
      "\n",
      "BMGC722755__cytop + C00019__cytop --> BMGC712826__cytop + C00021__cytop + C00080__cytop\n",
      "Reação:  BMGR1117__cytop     Equação ----> S-Adenosyl-L-methionine + Phosphatidyl-N-methylethanolamine => S-Adenosyl-L-homocysteine + H+ + Phosphatidyl-N-dimethylethanolamine\n",
      "\n",
      "BMGC712826__cytop + C00019__cytop --> BMGC39677__cytop + C00021__cytop + C00080__cytop\n",
      "Reação:  BMGR0970__cytop     Equação ----> S-Adenosyl-L-methionine + Phosphatidyl-N-dimethylethanolamine => S-Adenosyl-L-homocysteine + H+ + Phosphatidylcholine\n",
      "\n",
      "BMGC39677__cytop + C00007__cytop + 2.0 C00080__cytop + C00999__cytop --> BMGC37021__cytop + 2.0 C00001__cytop + C00996__cytop\n",
      "Reação:  BMGR1276__cytop     Equação ----> Oxygen + 2 H+ + Ferrocytochrome b5 + 1,2-di-(9Z,12Z-octadecadienoyl)-sn-glycero-3-phosphocholine => 2 H2O + Ferricytochrome b5 + 1-(9Z,12Z,15Z-octadecatrienoyl)-2-(9Z,12Z-octadecadienoyl)-sn-glycero-3-phosphocholine\n",
      "\n",
      "BMGC37021__cytop + C00001__cytop --> BMGC1242__cytop + C00080__cytop + C06427__cytop\n",
      "Reação:  BMGR3241__cytop     Equação ----> H2O + 1-(9Z,12Z,15Z-octadecatrienoyl)-2-(9Z,12Z-octadecadienoyl)-sn-glycero-3-phosphocholine => 2-(9Z,12Z-octadecadienoyl)-sn-glycero-3-phosphocholine + H+ + (9Z,12Z,15Z)-Octadecatrienoic acid\n",
      "\n",
      "BMGC1242__cytop + C00412__cytop --> BMGC45682__cytop + C00010__cytop\n",
      "Reação:  BMGR5952__cytop     Equação ----> 2-(9Z,12Z-octadecadienoyl)-sn-glycero-3-phosphocholine + Stearoyl-CoA => CoA + 1-octadecanoyl-2-(9Z,12Z-octadecadienoyl)-sn-glycero-3-phosphocholine\n",
      "\n",
      "BMGC45682__cytop + C00001__cytop --> BMGC1242__cytop + C00080__cytop + C01530__cytop\n",
      "Reação:  BMGR5904__cytop     Equação ----> H2O + 1-octadecanoyl-2-(9Z,12Z-octadecadienoyl)-sn-glycero-3-phosphocholine => 2-(9Z,12Z-octadecadienoyl)-sn-glycero-3-phosphocholine + H+ + Octadecanoic acid\n",
      "\n",
      "BMGC1242__cytop + C02050__cytop --> BMGC39677__cytop + C00010__cytop\n",
      "Reação:  BMGR5950__cytop     Equação ----> 2-(9Z,12Z-octadecadienoyl)-sn-glycero-3-phosphocholine + Linoleoyl-CoA => CoA + 1,2-di-(9Z,12Z-octadecadienoyl)-sn-glycero-3-phosphocholine\n",
      "\n",
      "BMGC39677__cytop + dag1829Z12Z164Z7Z12Z15Z__cytop --> BMGC6941__cytop + tag1829Z12Z164Z7Z12Z15Z1829Z12Z__cytop\n",
      "Reação:  BMGR5663__cytop     Equação ----> 1-(9Z,12Z-octadecadienoyl)-2-(4Z,7Z,10Z,13Z-hexadecatetraenoyl)-sn-glycerol + 1,2-di-(9Z,12Z-octadecadienoyl)-sn-glycero-3-phosphocholine => 1-(9Z,12Z-octadecadienoyl)-sn-glycero-3-phosphocholine + 1-(9Z,12Z-octadecadienoyl)-2-(4Z,7Z,10Z,13Z-hexadecatetraenoyl)-3-(9Z,12Z-octadecadienoyl)-sn-glycerol\n",
      "\n",
      "BMGC6941__cytop + C02050__cytop <=> BMGC39677__cytop + C00010__cytop\n",
      "Reação:  BMGR1019__cytop     Equação ----> 1-(9Z,12Z-octadecadienoyl)-sn-glycero-3-phosphocholine + Linoleoyl-CoA <=> CoA + 1,2-di-(9Z,12Z-octadecadienoyl)-sn-glycero-3-phosphocholine\n",
      "\n",
      "BMGC39677__cytop + C00001__cytop --> BMGC1242__cytop + C00080__cytop + C01595__cytop\n",
      "Reação:  BMGR5902__cytop     Equação ----> H2O + 1,2-di-(9Z,12Z-octadecadienoyl)-sn-glycero-3-phosphocholine => 2-(9Z,12Z-octadecadienoyl)-sn-glycero-3-phosphocholine + H+ + Linoleate\n",
      "\n",
      "BMGC1242__cytop + C00510__cytop --> BMGC415__cytop + C00010__cytop\n",
      "Reação:  BMGR5953__cytop     Equação ----> 2-(9Z,12Z-octadecadienoyl)-sn-glycero-3-phosphocholine + Oleoyl-CoA => CoA + 1-(9Z-octadecenoyl)-2-(9Z,12Z-octadecadienoyl)-sn-glycero-3-phosphocholine\n",
      "\n"
     ]
    }
   ],
   "source": [
    "print(model.reactions.get_by_id(\"BMGR0441__cytop\").name)\n",
    "print()\n",
    "for x in pathway[::-1]:\n",
    "   print(model.reactions.get_by_id(x).reaction)\n",
    "   print(\"Reação: \", x, \"    Equação ---->\", model.reactions.get_by_id(x).name)\n",
    "   print()"
   ]
  },
  {
   "cell_type": "markdown",
   "metadata": {},
   "source": [
    "outro tag"
   ]
  },
  {
   "cell_type": "code",
   "execution_count": 53,
   "metadata": {},
   "outputs": [
    {
     "name": "stdout",
     "output_type": "stream",
     "text": [
      "Path to BMGC98270__cytop:\n",
      "['BMGR5612__cytop', 'BMGR0030__cytop', 'BMGR0060__cytop', 'BMGR0156__cytop', 'BMGR0116__cytop', 'BMGR3622__cytop', 'BMGR3612__cytop', 'BMGR3613__cytop']\n"
     ]
    }
   ],
   "source": [
    "metabolitos = [\"BMGC98270__cytop\"]\n",
    "pathway = find_path_reactions(model, metabolitos[0])\n",
    "\n",
    "print(\"Path to BMGC98270__cytop:\")\n",
    "print(pathway)"
   ]
  },
  {
   "cell_type": "code",
   "execution_count": 54,
   "metadata": {},
   "outputs": [
    {
     "name": "stdout",
     "output_type": "stream",
     "text": [
      "BMGC2334__cytop + C00007__cytop + 2.0 C00080__cytop + C00999__cytop --> BMGC2324__cytop + 2.0 C00001__cytop + C00996__cytop\n",
      "Reação:  BMGR3613__cytop     Equação ----> Oxygen + 1-tetradecanoyl-2-(7Z,10Z,13Z,16Z,19Z-docosapentaenoyl)-sn-glycero-3-phosphate + 2 H+ + Ferrocytochrome b5 => 2 H2O + 1-tetradecanoyl-2-(4Z,7Z,10Z,13Z,16Z,19Z-docosahexaenoyl)-sn-glycero-3-phosphate + Ferricytochrome b5\n",
      "\n",
      "BMGC2324__cytop + C00001__cytop --> BMGC67991__cytop + C00009__cytop\n",
      "Reação:  BMGR3612__cytop     Equação ----> H2O + 1-tetradecanoyl-2-(4Z,7Z,10Z,13Z,16Z,19Z-docosahexaenoyl)-sn-glycero-3-phosphate => 1-tetradecanoyl-2-(4Z,7Z,10Z,13Z,16Z,19Z-docosahexaenoyl)-sn-glycerol + Orthophosphate\n",
      "\n",
      "BMGC67991__cytop + C00001__cytop --> BMGC51319__cytop + C00080__cytop + C06429__cytop\n",
      "Reação:  BMGR3622__cytop     Equação ----> 1-tetradecanoyl-2-(4Z,7Z,10Z,13Z,16Z,19Z-docosahexaenoyl)-sn-glycerol (lip) + H2O (cytop) => H+ (cytop) + (4Z,7Z,10Z,13Z,16Z,19Z)-Docosahexaenoic acid (cytop) + 1-tetradecanoyl-sn-glycerol (lip)\n",
      "\n",
      "BMGC51319__cytop + C00412__cytop --> BMGC61408__cytop + C00010__cytop\n",
      "Reação:  BMGR0116__cytop     Equação ----> Stearoyl-CoA + 1-tetradecanoyl-sn-glycerol => CoA + 1-tetradecanoyl-2-octadecanoyl-sn-glycerol\n",
      "\n",
      "BMGC61408__cytop + C00002__cytop --> BMGC2361__cytop + C00008__cytop + C00080__cytop\n",
      "Reação:  BMGR0156__cytop     Equação ----> 1,2-Diacyl-sn-glycerol + ATP => H+ + Phosphatidate + ADP\n",
      "\n",
      "BMGC2361__cytop + C00001__cytop --> BMGC61408__cytop + C00009__cytop\n",
      "Reação:  BMGR0060__cytop     Equação ----> H2O + Phosphatidate => Orthophosphate + 1,2-Diacyl-sn-glycerol\n",
      "\n",
      "BMGC61408__cytop + C00570__cytop --> BMGC23379__cytop + C00055__cytop + C00080__cytop\n",
      "Reação:  BMGR0030__cytop     Equação ----> 1,2-Diacyl-sn-glycerol + CDP-ethanolamine => Phosphatidylethanolamine + CMP + H+\n",
      "\n",
      "BMGC23379__cytop + BMGC65015__cytop --> BMGC27943__cytop + BMGC98270__cytop\n",
      "Reação:  BMGR5612__cytop     Equação ----> 1-hexadecanoyl-2-(9Z-octadecenoyl)-sn-glycerol + 1-tetradecanoyl-2-octadecanoyl-sn-glycero-3-phosphoethanolamine => 1-tetradecanoyl-sn-glycero-3-phosphoethanolamine + 1-hexadecanoyl-2-(9Z-octadecenoyl)-3-octadecanoyl-sn-glycerol\n",
      "\n"
     ]
    }
   ],
   "source": [
    "for x in pathway[::-1]:                #nao tem uma reaçao antes sem BMGC\n",
    "   print(model.reactions.get_by_id(x).reaction)\n",
    "   print(\"Reação: \", x, \"    Equação ---->\", model.reactions.get_by_id(x).name)\n",
    "   print()"
   ]
  },
  {
   "cell_type": "markdown",
   "metadata": {},
   "source": [
    "outro tag"
   ]
  },
  {
   "cell_type": "code",
   "execution_count": 21,
   "metadata": {},
   "outputs": [
    {
     "name": "stdout",
     "output_type": "stream",
     "text": [
      "Path to BMGC111564__cytop:\n",
      "['BMGR5559__cytop', 'BMGR0090__cytop', 'BMGR5846__cytop', 'BMGR5843__cytop', 'BMGR5786__cytop', 'BMGR5321__cytop', 'BMGR5320__cytop', 'BMGR5319__cytop', 'BMGR5318__cytop', 'BMGR5323__cytop', 'BMGR0161__cytop']\n"
     ]
    }
   ],
   "source": [
    "metabolitos = [\"BMGC111564__cytop\"]\n",
    "pathway = find_path_reactions(model, metabolitos[0])\n",
    "\n",
    "print(\"Path to BMGC111564__cytop:\")\n",
    "print(pathway)"
   ]
  },
  {
   "cell_type": "code",
   "execution_count": 25,
   "metadata": {},
   "outputs": [
    {
     "name": "stdout",
     "output_type": "stream",
     "text": [
      "sn-Glycerol 3-phosphate + Linoleoyl-CoA => 1-(9Z,12Z-octadecadienoyl)-sn-glycero-3-phosphate + CoA\n",
      "\n",
      "BMGC401__cytop + C02050__cytop --> BMGC38415__cytop + C00010__cytop\n",
      "Reação:  BMGR0161__cytop     Equação ----> Linoleoyl-CoA + 1-(9Z,12Z-octadecadienoyl)-sn-glycero-3-phosphate => CoA + 1,2-di-(9Z,12Z-octadecadienoyl)-sn-glycero-3-phosphate\n",
      "\n",
      "BMGC38415__cytop + C00007__cytop + 2.0 C00080__cytop + 2.0 C00138__cytop --> BMGC29909__cytop + 2.0 C00001__cytop + 2.0 C00139__cytop\n",
      "Reação:  BMGR5323__cytop     Equação ----> Oxygen + 2 H+ + 2 Reduced ferredoxin + 1,2-di-(9Z,12Z-octadecadienoyl)-sn-glycero-3-phosphate => 2 H2O + 1-(6Z,9Z,12Z-octadecatrienoyl)-2-(9Z,12Z-octadecadienoyl)-sn-glycero-3-phosphate + 2 Oxidized ferredoxin\n",
      "\n",
      "BMGC29909__cytop + C00007__cytop + 2.0 C00080__cytop + 2.0 C00138__cytop --> BMGC38401__cytop + 2.0 C00001__cytop + 2.0 C00139__cytop\n",
      "Reação:  BMGR5318__cytop     Equação ----> Oxygen + 1-(6Z,9Z,12Z-octadecatrienoyl)-2-(9Z,12Z-octadecadienoyl)-sn-glycero-3-phosphate + 2 H+ + 2 Reduced ferredoxin => 2 H2O + 1,2-di-(6Z,9Z,12Z-octadecatrienoyl)-sn-glycero-3-phosphate + 2 Oxidized ferredoxin\n",
      "\n",
      "BMGC38401__cytop + C00063__cytop + C00080__cytop --> BMGC544525__cytop + C00013__cytop\n",
      "Reação:  BMGR5319__cytop     Equação ----> 1,2-di-(6Z,9Z,12Z-octadecatrienoyl)-sn-glycero-3-phosphate + H+ + CTP => CDP-1,2-di-(6Z,9Z,12Z-octadecatrienoyl)-sn-glycerol + Diphosphate\n",
      "\n",
      "BMGC544525__cytop + C00093__cytop --> BMGC296497__cytop + C00055__cytop + C00080__cytop\n",
      "Reação:  BMGR5320__cytop     Equação ----> CDP-1,2-di-(6Z,9Z,12Z-octadecatrienoyl)-sn-glycerol + sn-Glycerol 3-phosphate => 1,2-di-(6Z,9Z,12Z-octadecatrienoyl)-sn-glycero-3-phospho-(1'-sn-glycerol-3'-phosphate) + CMP + H+\n",
      "\n",
      "BMGC296497__cytop + C00001__cytop --> BMGC7439__cytop + C00009__cytop\n",
      "Reação:  BMGR5321__cytop     Equação ----> H2O + 1,2-di-(6Z,9Z,12Z-octadecatrienoyl)-sn-glycero-3-phospho-(1'-sn-glycerol-3'-phosphate) => Orthophosphate + 1,2-di-(6Z,9Z,12Z-octadecatrienoyl)-sn-glycero-3-phospho-(1'-sn-glycerol)\n",
      "\n",
      "BMGC70110__cytop + BMGC7439__cytop --> BMGC16348__cytop + BMGC86896__cytop\n",
      "Reação:  BMGR5786__cytop     Equação ----> 1,2-di-(6Z,9Z,12Z-octadecatrienoyl)-sn-glycero-3-phospho-(1'-sn-glycerol) + 1,2-di-(9Z-octadecenoyl)-sn-glycerol => 1,2-di-(9Z-octadecenoyl)-3-(6Z,9Z,12Z-octadecatrienoyl)-sn-glycerol + 1-(6Z,9Z,12Z-octadecatrienoyl)-sn-glycero-3-phospho-(1'-sn-glycerol)\n",
      "\n",
      "BMGC86896__cytop + C00001__cytop --> BMGC70110__cytop + C00080__cytop + C06426__cytop\n",
      "Reação:  BMGR5843__cytop     Equação ----> 1,2-di-(9Z-octadecenoyl)-3-(6Z,9Z,12Z-octadecatrienoyl)-sn-glycerol (lip) + H2O (cytop) => H+ (cytop) + (6Z,9Z,12Z)-Octadecatrienoic acid (cytop) + 1,2-di-(9Z-octadecenoyl)-sn-glycerol (lip)\n",
      "\n",
      "BMGC70110__cytop + C00001__cytop --> BMGC53017__cytop + C00080__cytop + C00712__cytop\n",
      "Reação:  BMGR5846__cytop     Equação ----> H2O (cytop) + 1,2-di-(9Z-octadecenoyl)-sn-glycerol (lip) => H+ (cytop) + (9Z)-Octadecenoic acid (cytop) + 1-(9Z-octadecenoyl)-sn-glycerol (lip)\n",
      "\n",
      "BMGC53017__cytop + C00510__cytop --> BMGC70110__cytop + C00010__cytop\n",
      "Reação:  BMGR0090__cytop     Equação ----> (9Z)-octadecenoyl-CoA + 1-(9Z-octadecenoyl)-sn-glycerol => CoA + 1,2-di-(9Z-octadecenoyl)-sn-glycerol\n",
      "\n",
      "BMGC70110__cytop + C00412__cytop --> BMGC111564__cytop + C00010__cytop\n",
      "Reação:  BMGR5559__cytop     Equação ----> Stearoyl-CoA + 1,2-di-(9Z-octadecenoyl)-sn-glycerol => 1,2-di-(9Z-octadecenoyl)-3-octadecanoyl-sn-glycerol + CoA\n",
      "\n"
     ]
    }
   ],
   "source": [
    "print(model.reactions.get_by_id(\"BMGR0441__cytop\").name)\n",
    "print()\n",
    "for x in pathway[::-1]:\n",
    "   print(model.reactions.get_by_id(x).reaction)\n",
    "   print(\"Reação: \", x, \"    Equação ---->\", model.reactions.get_by_id(x).name)\n",
    "   print()"
   ]
  },
  {
   "cell_type": "markdown",
   "metadata": {},
   "source": [
    "phosphatydylcholine"
   ]
  },
  {
   "cell_type": "code",
   "execution_count": 11,
   "metadata": {},
   "outputs": [
    {
     "name": "stdout",
     "output_type": "stream",
     "text": [
      "Path to BMGC415__cytop:\n",
      "['BMGR5953__cytop', 'BMGR5902__cytop', 'BMGR1019__cytop', 'BMGR5663__cytop', 'BMGR5950__cytop', 'BMGR5904__cytop', 'BMGR5952__cytop', 'BMGR3241__cytop', 'BMGR1276__cytop', 'BMGR0970__cytop', 'BMGR1117__cytop', 'BMGR1162__cytop', 'BMGR0006__cytop', 'BMGR5960__cytop', 'BMGR1334__cytop', 'BMGR0602__cytop', 'BMGR0161__cytop']\n"
     ]
    }
   ],
   "source": [
    "metabolitos = [\"BMGC415__cytop\"]\n",
    "pathway = find_path_reactions(model, metabolitos[0])\n",
    "\n",
    "print(\"Path to BMGC415__cytop:\")\n",
    "print(pathway)"
   ]
  },
  {
   "cell_type": "code",
   "execution_count": 12,
   "metadata": {},
   "outputs": [
    {
     "name": "stdout",
     "output_type": "stream",
     "text": [
      "sn-Glycerol 3-phosphate + Linoleoyl-CoA => 1-(9Z,12Z-octadecadienoyl)-sn-glycero-3-phosphate + CoA\n",
      "\n",
      "BMGC401__cytop + C02050__cytop --> BMGC38415__cytop + C00010__cytop\n",
      "Reação:  BMGR0161__cytop     Equação ----> Linoleoyl-CoA + 1-(9Z,12Z-octadecadienoyl)-sn-glycero-3-phosphate => CoA + 1,2-di-(9Z,12Z-octadecadienoyl)-sn-glycero-3-phosphate\n",
      "\n",
      "BMGC38415__cytop + C00063__cytop --> BMGC239951__cytop + C00013__cytop\n",
      "Reação:  BMGR0602__cytop     Equação ----> H+ + Phosphatidate + CTP => Diphosphate + CDP-diacylglycerol\n",
      "\n",
      "BMGC239951__cytop + C00137__cytop --> BMGC43111__cytop + C00055__cytop + C00080__cytop\n",
      "Reação:  BMGR1334__cytop     Equação ----> myo-Inositol + CDP-1,2-di-(9Z,12Z-octadecadienoyl)-sn-glycerol => 1,2-di-(9Z,12Z-octadecadienoyl)-sn-glycero-3-phospho-1D-myo-inositol + CMP + H+\n",
      "\n",
      "BMGC43111__cytop + C00001__cytop --> BMGC68217__cytop + C00080__cytop + C01177__cytop\n",
      "Reação:  BMGR5960__cytop     Equação ----> 1,2-di-(9Z,12Z-octadecadienoyl)-sn-glycero-3-phospho-1D-myo-inositol + H2O => 1,2-di-(9Z,12Z-octadecadienoyl)-sn-glycerol + H+ + Inositol 1-phosphate\n",
      "\n",
      "BMGC68217__cytop + C00570__cytop --> BMGC12582__cytop + C00055__cytop + C00080__cytop\n",
      "Reação:  BMGR0006__cytop     Equação ----> 1,2-Diacyl-sn-glycerol + CDP-ethanolamine => Phosphatidylethanolamine + CMP + H+\n",
      "\n",
      "BMGC12582__cytop + C00019__cytop --> BMGC722755__cytop + C00021__cytop + C00080__cytop\n",
      "Reação:  BMGR1162__cytop     Equação ----> S-Adenosyl-L-methionine + Phosphatidylethanolamine => S-Adenosyl-L-homocysteine + H+ + Phosphatidyl-N-methylethanolamine\n",
      "\n",
      "BMGC722755__cytop + C00019__cytop --> BMGC712826__cytop + C00021__cytop + C00080__cytop\n",
      "Reação:  BMGR1117__cytop     Equação ----> S-Adenosyl-L-methionine + Phosphatidyl-N-methylethanolamine => S-Adenosyl-L-homocysteine + H+ + Phosphatidyl-N-dimethylethanolamine\n",
      "\n",
      "BMGC712826__cytop + C00019__cytop --> BMGC39677__cytop + C00021__cytop + C00080__cytop\n",
      "Reação:  BMGR0970__cytop     Equação ----> S-Adenosyl-L-methionine + Phosphatidyl-N-dimethylethanolamine => S-Adenosyl-L-homocysteine + H+ + Phosphatidylcholine\n",
      "\n",
      "BMGC39677__cytop + C00007__cytop + 2.0 C00080__cytop + C00999__cytop --> BMGC37021__cytop + 2.0 C00001__cytop + C00996__cytop\n",
      "Reação:  BMGR1276__cytop     Equação ----> Oxygen + 2 H+ + Ferrocytochrome b5 + 1,2-di-(9Z,12Z-octadecadienoyl)-sn-glycero-3-phosphocholine => 2 H2O + Ferricytochrome b5 + 1-(9Z,12Z,15Z-octadecatrienoyl)-2-(9Z,12Z-octadecadienoyl)-sn-glycero-3-phosphocholine\n",
      "\n",
      "BMGC37021__cytop + C00001__cytop --> BMGC1242__cytop + C00080__cytop + C06427__cytop\n",
      "Reação:  BMGR3241__cytop     Equação ----> H2O + 1-(9Z,12Z,15Z-octadecatrienoyl)-2-(9Z,12Z-octadecadienoyl)-sn-glycero-3-phosphocholine => 2-(9Z,12Z-octadecadienoyl)-sn-glycero-3-phosphocholine + H+ + (9Z,12Z,15Z)-Octadecatrienoic acid\n",
      "\n",
      "BMGC1242__cytop + C00412__cytop --> BMGC45682__cytop + C00010__cytop\n",
      "Reação:  BMGR5952__cytop     Equação ----> 2-(9Z,12Z-octadecadienoyl)-sn-glycero-3-phosphocholine + Stearoyl-CoA => CoA + 1-octadecanoyl-2-(9Z,12Z-octadecadienoyl)-sn-glycero-3-phosphocholine\n",
      "\n",
      "BMGC45682__cytop + C00001__cytop --> BMGC1242__cytop + C00080__cytop + C01530__cytop\n",
      "Reação:  BMGR5904__cytop     Equação ----> H2O + 1-octadecanoyl-2-(9Z,12Z-octadecadienoyl)-sn-glycero-3-phosphocholine => 2-(9Z,12Z-octadecadienoyl)-sn-glycero-3-phosphocholine + H+ + Octadecanoic acid\n",
      "\n",
      "BMGC1242__cytop + C02050__cytop --> BMGC39677__cytop + C00010__cytop\n",
      "Reação:  BMGR5950__cytop     Equação ----> 2-(9Z,12Z-octadecadienoyl)-sn-glycero-3-phosphocholine + Linoleoyl-CoA => CoA + 1,2-di-(9Z,12Z-octadecadienoyl)-sn-glycero-3-phosphocholine\n",
      "\n",
      "BMGC39677__cytop + dag1829Z12Z164Z7Z12Z15Z__cytop --> BMGC6941__cytop + tag1829Z12Z164Z7Z12Z15Z1829Z12Z__cytop\n",
      "Reação:  BMGR5663__cytop     Equação ----> 1-(9Z,12Z-octadecadienoyl)-2-(4Z,7Z,10Z,13Z-hexadecatetraenoyl)-sn-glycerol + 1,2-di-(9Z,12Z-octadecadienoyl)-sn-glycero-3-phosphocholine => 1-(9Z,12Z-octadecadienoyl)-sn-glycero-3-phosphocholine + 1-(9Z,12Z-octadecadienoyl)-2-(4Z,7Z,10Z,13Z-hexadecatetraenoyl)-3-(9Z,12Z-octadecadienoyl)-sn-glycerol\n",
      "\n",
      "BMGC6941__cytop + C02050__cytop <=> BMGC39677__cytop + C00010__cytop\n",
      "Reação:  BMGR1019__cytop     Equação ----> 1-(9Z,12Z-octadecadienoyl)-sn-glycero-3-phosphocholine + Linoleoyl-CoA <=> CoA + 1,2-di-(9Z,12Z-octadecadienoyl)-sn-glycero-3-phosphocholine\n",
      "\n",
      "BMGC39677__cytop + C00001__cytop --> BMGC1242__cytop + C00080__cytop + C01595__cytop\n",
      "Reação:  BMGR5902__cytop     Equação ----> H2O + 1,2-di-(9Z,12Z-octadecadienoyl)-sn-glycero-3-phosphocholine => 2-(9Z,12Z-octadecadienoyl)-sn-glycero-3-phosphocholine + H+ + Linoleate\n",
      "\n",
      "BMGC1242__cytop + C00510__cytop --> BMGC415__cytop + C00010__cytop\n",
      "Reação:  BMGR5953__cytop     Equação ----> 2-(9Z,12Z-octadecadienoyl)-sn-glycero-3-phosphocholine + Oleoyl-CoA => CoA + 1-(9Z-octadecenoyl)-2-(9Z,12Z-octadecadienoyl)-sn-glycero-3-phosphocholine\n",
      "\n"
     ]
    }
   ],
   "source": [
    "print(model.reactions.get_by_id(\"BMGR0441__cytop\").name)\n",
    "print()\n",
    "for x in pathway[::-1]:     \n",
    "   print(model.reactions.get_by_id(x).reaction)\n",
    "   print(\"Reação: \", x, \"    Equação ---->\", model.reactions.get_by_id(x).name)\n",
    "   print()"
   ]
  },
  {
   "cell_type": "markdown",
   "metadata": {},
   "source": [
    "outro pc"
   ]
  },
  {
   "cell_type": "code",
   "execution_count": 3,
   "metadata": {},
   "outputs": [
    {
     "name": "stdout",
     "output_type": "stream",
     "text": [
      "Path to BMGC45682__cytop:\n",
      "['BMGR5952__cytop', 'BMGR5902__cytop', 'BMGR1019__cytop', 'BMGR5663__cytop', 'BMGR5950__cytop', 'BMGR5904__cytop', 'BMGR0976__cytop', 'BMGR1123__cytop', 'BMGR1166__cytop', 'BMGR0022__cytop', 'BMGR0047__cytop', 'BMGR0188__cytop']\n"
     ]
    }
   ],
   "source": [
    "metabolitos = [\"BMGC45682__cytop\"]\n",
    "pathway = find_path_reactions(model, metabolitos[0])\n",
    "\n",
    "print(\"Path to BMGC45682__cytop:\")\n",
    "print(pathway)"
   ]
  },
  {
   "cell_type": "code",
   "execution_count": 10,
   "metadata": {},
   "outputs": [
    {
     "name": "stdout",
     "output_type": "stream",
     "text": [
      "sn-Glycerol 3-phosphate + Stearoyl-CoA => CoA + 1-stearoyl-sn-glycerol 3-phosphate\n",
      "\n",
      "BMGC277__cytop + C02050__cytop --> BMGC43877__cytop + C00010__cytop\n",
      "Reação:  BMGR0188__cytop     Equação ----> (9Z,12Z)-octadecadienoyl-CoA + 1-stearoyl-sn-glycerol 3-phosphate => CoA + 1-octadecanoyl-2-(9Z,12Z-octadecadienoyl)-sn-glycero-3-phosphate\n",
      "\n",
      "BMGC43877__cytop + C00001__cytop --> BMGC70092__cytop + C00009__cytop\n",
      "Reação:  BMGR0047__cytop     Equação ----> 1-octadecanoyl-2-(9Z,12Z-octadecadienoyl)-sn-glycero-3-phosphate + H2O => Orthophosphate + 1-octadecanoyl-2-(9Z,12Z-octadecadienoyl)-sn-glycerol\n",
      "\n",
      "BMGC70092__cytop + C00570__cytop --> BMGC22967__cytop + C00055__cytop + C00080__cytop\n",
      "Reação:  BMGR0022__cytop     Equação ----> 1,2-Diacyl-sn-glycerol + CDP-ethanolamine => Phosphatidylethanolamine + CMP + H+\n",
      "\n",
      "BMGC22967__cytop + C00019__cytop --> BMGC723089__cytop + C00021__cytop + C00080__cytop\n",
      "Reação:  BMGR1166__cytop     Equação ----> S-Adenosyl-L-methionine + Phosphatidylethanolamine => S-Adenosyl-L-homocysteine + H+ + Phosphatidyl-N-methylethanolamine\n",
      "\n",
      "BMGC723089__cytop + C00019__cytop --> BMGC711158__cytop + C00021__cytop + C00080__cytop\n",
      "Reação:  BMGR1123__cytop     Equação ----> S-Adenosyl-L-methionine + Phosphatidyl-N-methylethanolamine => S-Adenosyl-L-homocysteine + H+ + Phosphatidyl-N-dimethylethanolamine\n",
      "\n",
      "BMGC711158__cytop + C00019__cytop --> BMGC45682__cytop + C00021__cytop + C00080__cytop\n",
      "Reação:  BMGR0976__cytop     Equação ----> S-Adenosyl-L-methionine + Phosphatidyl-N-dimethylethanolamine => S-Adenosyl-L-homocysteine + H+ + Phosphatidylcholine\n",
      "\n",
      "BMGC45682__cytop + C00001__cytop --> BMGC1242__cytop + C00080__cytop + C01530__cytop\n",
      "Reação:  BMGR5904__cytop     Equação ----> H2O + 1-octadecanoyl-2-(9Z,12Z-octadecadienoyl)-sn-glycero-3-phosphocholine => 2-(9Z,12Z-octadecadienoyl)-sn-glycero-3-phosphocholine + H+ + Octadecanoic acid\n",
      "\n",
      "BMGC1242__cytop + C02050__cytop --> BMGC39677__cytop + C00010__cytop\n",
      "Reação:  BMGR5950__cytop     Equação ----> 2-(9Z,12Z-octadecadienoyl)-sn-glycero-3-phosphocholine + Linoleoyl-CoA => CoA + 1,2-di-(9Z,12Z-octadecadienoyl)-sn-glycero-3-phosphocholine\n",
      "\n",
      "BMGC39677__cytop + dag1829Z12Z164Z7Z12Z15Z__cytop --> BMGC6941__cytop + tag1829Z12Z164Z7Z12Z15Z1829Z12Z__cytop\n",
      "Reação:  BMGR5663__cytop     Equação ----> 1-(9Z,12Z-octadecadienoyl)-2-(4Z,7Z,10Z,13Z-hexadecatetraenoyl)-sn-glycerol + 1,2-di-(9Z,12Z-octadecadienoyl)-sn-glycero-3-phosphocholine => 1-(9Z,12Z-octadecadienoyl)-sn-glycero-3-phosphocholine + 1-(9Z,12Z-octadecadienoyl)-2-(4Z,7Z,10Z,13Z-hexadecatetraenoyl)-3-(9Z,12Z-octadecadienoyl)-sn-glycerol\n",
      "\n",
      "BMGC6941__cytop + C02050__cytop <=> BMGC39677__cytop + C00010__cytop\n",
      "Reação:  BMGR1019__cytop     Equação ----> 1-(9Z,12Z-octadecadienoyl)-sn-glycero-3-phosphocholine + Linoleoyl-CoA <=> CoA + 1,2-di-(9Z,12Z-octadecadienoyl)-sn-glycero-3-phosphocholine\n",
      "\n",
      "BMGC39677__cytop + C00001__cytop --> BMGC1242__cytop + C00080__cytop + C01595__cytop\n",
      "Reação:  BMGR5902__cytop     Equação ----> H2O + 1,2-di-(9Z,12Z-octadecadienoyl)-sn-glycero-3-phosphocholine => 2-(9Z,12Z-octadecadienoyl)-sn-glycero-3-phosphocholine + H+ + Linoleate\n",
      "\n",
      "BMGC1242__cytop + C00412__cytop --> BMGC45682__cytop + C00010__cytop\n",
      "Reação:  BMGR5952__cytop     Equação ----> 2-(9Z,12Z-octadecadienoyl)-sn-glycero-3-phosphocholine + Stearoyl-CoA => CoA + 1-octadecanoyl-2-(9Z,12Z-octadecadienoyl)-sn-glycero-3-phosphocholine\n",
      "\n"
     ]
    }
   ],
   "source": [
    "print(model.reactions.get_by_id(\"BMGR0405__cytop\").name)   # pc1801829z12z\n",
    "print()\n",
    "for x in pathway[::-1]:     \n",
    "   print(model.reactions.get_by_id(x).reaction)\n",
    "   print(\"Reação: \", x, \"    Equação ---->\", model.reactions.get_by_id(x).name)\n",
    "   print()"
   ]
  },
  {
   "cell_type": "code",
   "execution_count": null,
   "metadata": {},
   "outputs": [],
   "source": []
  },
  {
   "cell_type": "code",
   "execution_count": 5,
   "metadata": {},
   "outputs": [],
   "source": [
    "def trans(model, path: list, fa1: str, fa2: str):\n",
    "    reactions = []\n",
    "    for x in path[::-1]:\n",
    "        reactions.append(model.reactions.get_by_id(x).name)\n",
    "\n",
    "    pathway_replaced = [r.replace('1-(9Z,12Z,15Z-octadecatrienoyl)', fa1).replace('2-hexadecanoyl', fa2) for r in pathway]\n",
    "    \n",
    "    new_lipid_name = f\"1-{fa1}-2-{fa2}\"\n",
    "\n",
    "    new_reactions = []\n",
    "    for reaction in pathway_replaced:\n",
    "        substrates, products = reaction.split(\" => \")\n",
    "        new_substrates = substrates.split(\" + \")\n",
    "        new_products = products.split(\" + \")\n",
    "\n",
    "    for x in range(len(path)):\n",
    "        pass\n",
    "\n",
    "\n",
    "\n",
    "\n",
    "    #return reactions"
   ]
  },
  {
   "cell_type": "code",
   "execution_count": 6,
   "metadata": {},
   "outputs": [
    {
     "data": {
      "text/plain": [
       "['(9Z,12Z,15Z)-Octadecatrienoyl-CoA + sn-Glycerol 3-phosphate => CoA + 1-(9Z,12Z,15Z-octadecatrienoyl)-sn-glycero-3-phosphate',\n",
       " 'Palmitoyl-CoA + 1-(9Z,12Z,15Z-octadecatrienoyl)-sn-glycero-3-phosphate => CoA + 1-(9Z,12Z,15Z-octadecatrienoyl)-2-hexadecanoyl-sn-glycero-3-phosphate',\n",
       " 'H+ + Phosphatidate + CTP => Diphosphate + CDP-diacylglycerol',\n",
       " 'sn-Glycerol 3-phosphate + CDP-diacylglycerol => CMP + H+ + Phosphatidylglycerophosphate',\n",
       " 'H2O + Phosphatidylglycerophosphate => Orthophosphate + Phosphatidylglycerol']"
      ]
     },
     "execution_count": 6,
     "metadata": {},
     "output_type": "execute_result"
    }
   ],
   "source": [
    "trans(model, pathway, \"1-11Z-octadecenoyl-CoA\", \"2-3E-hexadecanoyl-sn-glycero-3-phosphate\")"
   ]
  },
  {
   "cell_type": "code",
   "execution_count": null,
   "metadata": {},
   "outputs": [],
   "source": []
  },
  {
   "cell_type": "code",
   "execution_count": null,
   "metadata": {},
   "outputs": [],
   "source": []
  },
  {
   "cell_type": "code",
   "execution_count": null,
   "metadata": {},
   "outputs": [],
   "source": []
  },
  {
   "cell_type": "code",
   "execution_count": null,
   "metadata": {},
   "outputs": [],
   "source": []
  },
  {
   "cell_type": "code",
   "execution_count": null,
   "metadata": {},
   "outputs": [],
   "source": []
  }
 ],
 "metadata": {
  "kernelspec": {
   "display_name": "base",
   "language": "python",
   "name": "python3"
  },
  "language_info": {
   "codemirror_mode": {
    "name": "ipython",
    "version": 3
   },
   "file_extension": ".py",
   "mimetype": "text/x-python",
   "name": "python",
   "nbconvert_exporter": "python",
   "pygments_lexer": "ipython3",
   "version": "3.9.13"
  },
  "orig_nbformat": 4
 },
 "nbformat": 4,
 "nbformat_minor": 2
}
