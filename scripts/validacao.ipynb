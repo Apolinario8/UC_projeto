{
 "cells": [
  {
   "cell_type": "code",
   "execution_count": 1,
   "metadata": {},
   "outputs": [],
   "source": [
    "from COBRAmodel import *"
   ]
  },
  {
   "cell_type": "markdown",
   "metadata": {},
   "source": [
    "# Spontaneous growth"
   ]
  },
  {
   "cell_type": "code",
   "execution_count": 4,
   "metadata": {},
   "outputs": [
    {
     "name": "stderr",
     "output_type": "stream",
     "text": [
      "3077 does not conform to 'http(s)://identifiers.org/collection/id' or'http(s)://identifiers.org/COLLECTION:id\n"
     ]
    },
    {
     "data": {
      "text/plain": [
       "0.0"
      ]
     },
     "execution_count": 4,
     "metadata": {},
     "output_type": "execute_result"
    }
   ],
   "source": [
    "from cobra.io import read_sbml_model\n",
    "\n",
    "model = read_sbml_model(r\"C:\\Users\\gonca\\Documents\\GitHub\\UC_projeto\\model.xml\")\n",
    "\n",
    "for reaction in model.reactions:\n",
    "    if 'EX' in reaction.id or 'R_DM' in reaction.id or 'DM_' in reaction.id:\n",
    "        reaction.lower_bound = 0\n",
    "\n",
    "solution = model.optimize()\n",
    "solution.objective_value # supposedly 0.0"
   ]
  },
  {
   "cell_type": "markdown",
   "metadata": {},
   "source": [
    "# Autotrophic growth"
   ]
  },
  {
   "cell_type": "code",
   "execution_count": 2,
   "metadata": {},
   "outputs": [
    {
     "name": "stderr",
     "output_type": "stream",
     "text": [
      "3077 does not conform to 'http(s)://identifiers.org/collection/id' or'http(s)://identifiers.org/COLLECTION:id\n"
     ]
    },
    {
     "name": "stdout",
     "output_type": "stream",
     "text": [
      "Loading\n",
      "\n"
     ]
    },
    {
     "name": "stderr",
     "output_type": "stream",
     "text": [
      "Could not identify an external compartment by name and choosing one with the most boundary reactions. That might be complete nonsense or change suddenly. Consider renaming your compartments using `Model.compartments` to fix this.\n"
     ]
    },
    {
     "name": "stdout",
     "output_type": "stream",
     "text": [
      "Reactions: 2670\n",
      "Metabolites: 2225\n",
      "Genes: 1312\n",
      "Model loaded\n",
      "Runnning pFBA\n"
     ]
    },
    {
     "data": {
      "text/html": [
       "<h3>Objective</h3><p>1.0 e_Biomass__cytop = 0.0244159711276681</p><h4>Uptake</h4><table border=\"1\" class=\"dataframe\">\n",
       "  <thead>\n",
       "    <tr style=\"text-align: right;\">\n",
       "      <th>Metabolite</th>\n",
       "      <th>Reaction</th>\n",
       "      <th>Flux</th>\n",
       "      <th>C-Number</th>\n",
       "      <th>C-Flux</th>\n",
       "    </tr>\n",
       "  </thead>\n",
       "  <tbody>\n",
       "    <tr>\n",
       "      <td>C00001__extr</td>\n",
       "      <td>EX_C00001__extr</td>\n",
       "      <td>5.977</td>\n",
       "      <td>0</td>\n",
       "      <td>0.00%</td>\n",
       "    </tr>\n",
       "    <tr>\n",
       "      <td>C00007__extr</td>\n",
       "      <td>EX_C00007__extr</td>\n",
       "      <td>0.04509</td>\n",
       "      <td>0</td>\n",
       "      <td>0.00%</td>\n",
       "    </tr>\n",
       "    <tr>\n",
       "      <td>C00009__extr</td>\n",
       "      <td>EX_C00009__extr</td>\n",
       "      <td>0.007029</td>\n",
       "      <td>0</td>\n",
       "      <td>0.00%</td>\n",
       "    </tr>\n",
       "    <tr>\n",
       "      <td>C00011__extr</td>\n",
       "      <td>EX_C00011__extr</td>\n",
       "      <td>7.74</td>\n",
       "      <td>1</td>\n",
       "      <td>99.98%</td>\n",
       "    </tr>\n",
       "    <tr>\n",
       "      <td>C00059__extr</td>\n",
       "      <td>EX_C00059__extr</td>\n",
       "      <td>0.004808</td>\n",
       "      <td>0</td>\n",
       "      <td>0.00%</td>\n",
       "    </tr>\n",
       "    <tr>\n",
       "      <td>C00080__extr</td>\n",
       "      <td>EX_C00080__extr</td>\n",
       "      <td>0.2968</td>\n",
       "      <td>0</td>\n",
       "      <td>0.00%</td>\n",
       "    </tr>\n",
       "    <tr>\n",
       "      <td>C00205__extr</td>\n",
       "      <td>EX_C00205__extr</td>\n",
       "      <td>182</td>\n",
       "      <td>0</td>\n",
       "      <td>0.00%</td>\n",
       "    </tr>\n",
       "    <tr>\n",
       "      <td>C00244__extr</td>\n",
       "      <td>EX_C00244__extr</td>\n",
       "      <td>0.1596</td>\n",
       "      <td>0</td>\n",
       "      <td>0.00%</td>\n",
       "    </tr>\n",
       "    <tr>\n",
       "      <td>C00305__extr</td>\n",
       "      <td>EX_C00305__extr</td>\n",
       "      <td>0.0005359</td>\n",
       "      <td>0</td>\n",
       "      <td>0.00%</td>\n",
       "    </tr>\n",
       "    <tr>\n",
       "      <td>C00378__extr</td>\n",
       "      <td>EX_C00378__extr</td>\n",
       "      <td>6.848E-05</td>\n",
       "      <td>12</td>\n",
       "      <td>0.01%</td>\n",
       "    </tr>\n",
       "    <tr>\n",
       "      <td>C02823__extr</td>\n",
       "      <td>EX_C02823__extr</td>\n",
       "      <td>7.085E-06</td>\n",
       "      <td>63</td>\n",
       "      <td>0.01%</td>\n",
       "    </tr>\n",
       "    <tr>\n",
       "      <td>C14818__extr</td>\n",
       "      <td>EX_C14818__extr</td>\n",
       "      <td>0.0001454</td>\n",
       "      <td>0</td>\n",
       "      <td>0.00%</td>\n",
       "    </tr>\n",
       "  </tbody>\n",
       "</table><h4>Secretion</h4><table border=\"1\" class=\"dataframe\">\n",
       "  <thead>\n",
       "    <tr style=\"text-align: right;\">\n",
       "      <th>Metabolite</th>\n",
       "      <th>Reaction</th>\n",
       "      <th>Flux</th>\n",
       "      <th>C-Number</th>\n",
       "      <th>C-Flux</th>\n",
       "    </tr>\n",
       "  </thead>\n",
       "  <tbody>\n",
       "    <tr>\n",
       "      <td>o2d__lum</td>\n",
       "      <td>DM_o2D__lum</td>\n",
       "      <td>-8.31</td>\n",
       "      <td>0</td>\n",
       "      <td>0.00%</td>\n",
       "    </tr>\n",
       "    <tr>\n",
       "      <td>photon298__cytop</td>\n",
       "      <td>DM_photon298__cytop</td>\n",
       "      <td>-0.00777</td>\n",
       "      <td>0</td>\n",
       "      <td>0.00%</td>\n",
       "    </tr>\n",
       "    <tr>\n",
       "      <td>photon438__lum</td>\n",
       "      <td>DM_photon438__lum</td>\n",
       "      <td>-16.08</td>\n",
       "      <td>0</td>\n",
       "      <td>0.00%</td>\n",
       "    </tr>\n",
       "    <tr>\n",
       "      <td>photon450__chlo</td>\n",
       "      <td>DM_photon450__chlo</td>\n",
       "      <td>-20.92</td>\n",
       "      <td>0</td>\n",
       "      <td>0.00%</td>\n",
       "    </tr>\n",
       "    <tr>\n",
       "      <td>photon490__chlo</td>\n",
       "      <td>DM_photon490__chlo</td>\n",
       "      <td>-35.63</td>\n",
       "      <td>0</td>\n",
       "      <td>0.00%</td>\n",
       "    </tr>\n",
       "    <tr>\n",
       "      <td>photon646__chlo</td>\n",
       "      <td>DM_photon646__chlo</td>\n",
       "      <td>-33.79</td>\n",
       "      <td>0</td>\n",
       "      <td>0.00%</td>\n",
       "    </tr>\n",
       "    <tr>\n",
       "      <td>C00079__extr</td>\n",
       "      <td>EX_C00079__extr</td>\n",
       "      <td>-0.0007294</td>\n",
       "      <td>9</td>\n",
       "      <td>99.89%</td>\n",
       "    </tr>\n",
       "    <tr>\n",
       "      <td>C00177__extr</td>\n",
       "      <td>EX_C00177__extr</td>\n",
       "      <td>-7.085E-06</td>\n",
       "      <td>1</td>\n",
       "      <td>0.11%</td>\n",
       "    </tr>\n",
       "  </tbody>\n",
       "</table>"
      ],
      "text/plain": [
       "<cobra.summary.model_summary.ModelSummary at 0x1e8138da810>"
      ]
     },
     "execution_count": 2,
     "metadata": {},
     "output_type": "execute_result"
    }
   ],
   "source": [
    "model = MyModel(r\"C:\\Users\\gonca\\Documents\\GitHub\\UC_projeto\\model.xml\", \"e_Biomass__cytop\")\n",
    "model.reactions.get_by_id(\"DM_o2D__lum\").bounds = (0, 8.31)\n",
    "model.summary() #should be between 0.014-0.025"
   ]
  },
  {
   "cell_type": "markdown",
   "metadata": {},
   "source": [
    "Nº of reversible and irreversible reactions"
   ]
  },
  {
   "cell_type": "code",
   "execution_count": 23,
   "metadata": {},
   "outputs": [
    {
     "data": {
      "text/plain": [
       "(704, 1601)"
      ]
     },
     "execution_count": 23,
     "metadata": {},
     "output_type": "execute_result"
    }
   ],
   "source": [
    "import pandas as pd\n",
    "\n",
    "pathw = pd.read_excel(r\"C:\\Users\\gonca\\Documents\\GitHub\\UC_projeto\\pathways.xlsx\")\n",
    "\n",
    "reversible_reactions = pathw[pathw['reversible'] == True] \n",
    "irreversible_reactions = pathw[pathw['reversible'] == False] \n",
    "unique_reversible_count = len(reversible_reactions['equation'].unique())\n",
    "unique_irreversible_count = len(irreversible_reactions['equation'].unique())\n",
    "\n",
    "counts_tuple = (unique_reversible_count, unique_irreversible_count)\n",
    "counts_tuple"
   ]
  },
  {
   "cell_type": "markdown",
   "metadata": {},
   "source": [
    "Pathways distribution"
   ]
  },
  {
   "cell_type": "code",
   "execution_count": 26,
   "metadata": {},
   "outputs": [
    {
     "data": {
      "image/png": "[encoded data removed]",
      "text/plain": [
       "<Figure size 800x800 with 1 Axes>"
      ]
     },
     "metadata": {},
     "output_type": "display_data"
    }
   ],
   "source": [
    "import pandas as pd\n",
    "import matplotlib.pyplot as plt\n",
    "\n",
    "pathw = pd.read_excel(r\"C:\\Users\\gonca\\Documents\\GitHub\\UC_projeto\\pathways.xlsx\")\n",
    "\n",
    "unique_pathways = pathw.drop_duplicates(subset='equation')\n",
    "pathway_counts = unique_pathways['pathway name'].value_counts()\n",
    "filtered_pathways = pathway_counts.iloc[0:11]\n",
    "total_pathways = filtered_pathways.sum()\n",
    "pathway_percentages = (filtered_pathways / total_pathways) * 100\n",
    "\n",
    "plt.figure(figsize=(8, 8))\n",
    "pathway_percentages.plot(kind='pie', autopct='%1.1f%%', startangle=140)\n",
    "plt.title('Percentage of Major Pathways')\n",
    "plt.ylabel('')\n",
    "plt.show()"
   ]
  },
  {
   "cell_type": "markdown",
   "metadata": {},
   "source": [
    "Localization distribution"
   ]
  },
  {
   "cell_type": "code",
   "execution_count": 33,
   "metadata": {},
   "outputs": [
    {
     "data": {
      "image/png": "[encoded data removed]",
      "text/plain": [
       "<Figure size 800x800 with 1 Axes>"
      ]
     },
     "metadata": {},
     "output_type": "display_data"
    }
   ],
   "source": [
    "unique_pathways = pathw.drop_duplicates(subset='equation')\n",
    "\n",
    "compartments_of_interest = ['extracellular', 'cytoplasmic', 'chloroplast', 'peroxisome', 'mitochondria', 'lumen', 'endoplasmic_reticulum', 'pfm', 'nuclear', 'golgi_apparatus', 'vacuole' ]\n",
    "filtered_pathways = unique_pathways[unique_pathways['localisation'].isin(compartments_of_interest)]\n",
    "localization_counts = filtered_pathways['localisation'].value_counts()\n",
    "total_localizations = localization_counts.sum()\n",
    "localization_percentages = (localization_counts / total_localizations) * 100\n",
    "\n",
    "plt.figure(figsize=(8, 8))\n",
    "localization_percentages.plot(kind='pie', autopct='%1.1f%%', startangle=140)\n",
    "plt.title('Percentage of Major Localizations')\n",
    "plt.ylabel('')\n",
    "plt.show()"
   ]
  },
  {
   "cell_type": "markdown",
   "metadata": {},
   "source": [
    "Nitrate uptake rate for autotrophic growth"
   ]
  },
  {
   "cell_type": "code",
   "execution_count": 9,
   "metadata": {},
   "outputs": [
    {
     "data": {
      "text/plain": [
       "-0.15829875276619695"
      ]
     },
     "execution_count": 9,
     "metadata": {},
     "output_type": "execute_result"
    }
   ],
   "source": [
    "sol = model.optimize()\n",
    "sol.fluxes[\"EX_C00244__extr\"] #should be -0,063"
   ]
  },
  {
   "cell_type": "markdown",
   "metadata": {},
   "source": [
    "# Heterotrophic growth"
   ]
  },
  {
   "cell_type": "code",
   "execution_count": 6,
   "metadata": {},
   "outputs": [
    {
     "name": "stdout",
     "output_type": "stream",
     "text": [
      "Loading\n",
      "\n"
     ]
    },
    {
     "name": "stderr",
     "output_type": "stream",
     "text": [
      "3077 does not conform to 'http(s)://identifiers.org/collection/id' or'http(s)://identifiers.org/COLLECTION:id\n",
      "Could not identify an external compartment by name and choosing one with the most boundary reactions. That might be complete nonsense or change suddenly. Consider renaming your compartments using `Model.compartments` to fix this.\n"
     ]
    },
    {
     "name": "stdout",
     "output_type": "stream",
     "text": [
      "Reactions: 2670\n",
      "Metabolites: 2225\n",
      "Genes: 1312\n",
      "Model loaded\n",
      "Runnning pFBA\n"
     ]
    },
    {
     "data": {
      "text/html": [
       "<h3>Objective</h3><p>1.0 e_Biomass__cytop = 0.006936909690559146</p><h4>Uptake</h4><table border=\"1\" class=\"dataframe\">\n",
       "  <thead>\n",
       "    <tr style=\"text-align: right;\">\n",
       "      <th>Metabolite</th>\n",
       "      <th>Reaction</th>\n",
       "      <th>Flux</th>\n",
       "      <th>C-Number</th>\n",
       "      <th>C-Flux</th>\n",
       "    </tr>\n",
       "  </thead>\n",
       "  <tbody>\n",
       "    <tr>\n",
       "      <td>C00007__extr</td>\n",
       "      <td>EX_C00007__extr</td>\n",
       "      <td>0.01155</td>\n",
       "      <td>0</td>\n",
       "      <td>0.00%</td>\n",
       "    </tr>\n",
       "    <tr>\n",
       "      <td>C00009__extr</td>\n",
       "      <td>EX_C00009__extr</td>\n",
       "      <td>0.001997</td>\n",
       "      <td>0</td>\n",
       "      <td>0.00%</td>\n",
       "    </tr>\n",
       "    <tr>\n",
       "      <td>C00059__extr</td>\n",
       "      <td>EX_C00059__extr</td>\n",
       "      <td>0.001366</td>\n",
       "      <td>0</td>\n",
       "      <td>0.00%</td>\n",
       "    </tr>\n",
       "    <tr>\n",
       "      <td>C00080__extr</td>\n",
       "      <td>EX_C00080__extr</td>\n",
       "      <td>0.08386</td>\n",
       "      <td>0</td>\n",
       "      <td>0.00%</td>\n",
       "    </tr>\n",
       "    <tr>\n",
       "      <td>C00244__extr</td>\n",
       "      <td>EX_C00244__extr</td>\n",
       "      <td>0.04473</td>\n",
       "      <td>0</td>\n",
       "      <td>0.00%</td>\n",
       "    </tr>\n",
       "    <tr>\n",
       "      <td>C00267__extr</td>\n",
       "      <td>EX_C00267__extr</td>\n",
       "      <td>0.3025</td>\n",
       "      <td>6</td>\n",
       "      <td>99.98%</td>\n",
       "    </tr>\n",
       "    <tr>\n",
       "      <td>C00378__extr</td>\n",
       "      <td>EX_C00378__extr</td>\n",
       "      <td>1.946E-05</td>\n",
       "      <td>12</td>\n",
       "      <td>0.01%</td>\n",
       "    </tr>\n",
       "    <tr>\n",
       "      <td>C02823__extr</td>\n",
       "      <td>EX_C02823__extr</td>\n",
       "      <td>2.013E-06</td>\n",
       "      <td>63</td>\n",
       "      <td>0.01%</td>\n",
       "    </tr>\n",
       "    <tr>\n",
       "      <td>C14818__extr</td>\n",
       "      <td>EX_C14818__extr</td>\n",
       "      <td>4.132E-05</td>\n",
       "      <td>0</td>\n",
       "      <td>0.00%</td>\n",
       "    </tr>\n",
       "  </tbody>\n",
       "</table><h4>Secretion</h4><table border=\"1\" class=\"dataframe\">\n",
       "  <thead>\n",
       "    <tr style=\"text-align: right;\">\n",
       "      <th>Metabolite</th>\n",
       "      <th>Reaction</th>\n",
       "      <th>Flux</th>\n",
       "      <th>C-Number</th>\n",
       "      <th>C-Flux</th>\n",
       "    </tr>\n",
       "  </thead>\n",
       "  <tbody>\n",
       "    <tr>\n",
       "      <td>C00001__extr</td>\n",
       "      <td>EX_C00001__extr</td>\n",
       "      <td>-0.5669</td>\n",
       "      <td>0</td>\n",
       "      <td>0.00%</td>\n",
       "    </tr>\n",
       "    <tr>\n",
       "      <td>C00011__extr</td>\n",
       "      <td>EX_C00011__extr</td>\n",
       "      <td>-0.1576</td>\n",
       "      <td>1</td>\n",
       "      <td>98.83%</td>\n",
       "    </tr>\n",
       "    <tr>\n",
       "      <td>C00079__extr</td>\n",
       "      <td>EX_C00079__extr</td>\n",
       "      <td>-0.0002072</td>\n",
       "      <td>9</td>\n",
       "      <td>1.17%</td>\n",
       "    </tr>\n",
       "    <tr>\n",
       "      <td>C00177__extr</td>\n",
       "      <td>EX_C00177__extr</td>\n",
       "      <td>-2.013E-06</td>\n",
       "      <td>1</td>\n",
       "      <td>0.00%</td>\n",
       "    </tr>\n",
       "  </tbody>\n",
       "</table>"
      ],
      "text/plain": [
       "<cobra.summary.model_summary.ModelSummary at 0x1e8130bce90>"
      ]
     },
     "execution_count": 6,
     "metadata": {},
     "output_type": "execute_result"
    }
   ],
   "source": [
    "model = MyModel(r\"C:\\Users\\gonca\\Documents\\GitHub\\UC_projeto\\model.xml\", \"e_Biomass__cytop\")\n",
    "model.reactions.get_by_id(\"EX_C00267__extr\").bounds = (-0.3025, 1000) #alpha-d-glucose\n",
    "model.reactions.get_by_id(\"EX_C00011__extr\").bounds = (-11.16,10000)\n",
    "model.reactions.get_by_id(\"EX_C00205__extr\").bounds = (0, 0)\n",
    "model.reactions.get_by_id(\"R03140__chlo\").bounds = (0, 0) # EC 4.1.1.39 \n",
    "model.reactions.get_by_id(\"R00024__chlo\").bounds = (0, 0) # EC 4.1.1.39 \n",
    "model.reactions.get_by_id(\"R00024__cytop\").bounds = (0, 0) # EC 4.1.1.39     -> confirmar se sao as msm reaçoes e enzimas que estao no artigo\n",
    "model.reactions.get_by_id(\"R01523__chlo\").bounds = (0, 0) # EC 2.7.1.19 \n",
    "model.reactions.get_by_id(\"R01063__chlo\").bounds = (0, 0) # EC 1.2.1.13 \n",
    "model.summary() #heterotrophic, should be between 0.018-0.025"
   ]
  },
  {
   "cell_type": "markdown",
   "metadata": {},
   "source": [
    "Nitrate uptake rate for heterotrophic growth"
   ]
  },
  {
   "cell_type": "code",
   "execution_count": 7,
   "metadata": {},
   "outputs": [
    {
     "data": {
      "text/plain": [
       "-0.04473496864161861"
      ]
     },
     "execution_count": 7,
     "metadata": {},
     "output_type": "execute_result"
    }
   ],
   "source": [
    "sol = model.optimize()\n",
    "sol.fluxes[\"EX_C00244__extr\"] #should be -0,049"
   ]
  },
  {
   "cell_type": "markdown",
   "metadata": {},
   "source": [
    "# Heterotrophic growth + Tryptophan"
   ]
  },
  {
   "cell_type": "code",
   "execution_count": 8,
   "metadata": {},
   "outputs": [
    {
     "name": "stdout",
     "output_type": "stream",
     "text": [
      "Loading\n",
      "\n"
     ]
    },
    {
     "name": "stderr",
     "output_type": "stream",
     "text": [
      "3077 does not conform to 'http(s)://identifiers.org/collection/id' or'http(s)://identifiers.org/COLLECTION:id\n",
      "Could not identify an external compartment by name and choosing one with the most boundary reactions. That might be complete nonsense or change suddenly. Consider renaming your compartments using `Model.compartments` to fix this.\n"
     ]
    },
    {
     "name": "stdout",
     "output_type": "stream",
     "text": [
      "Reactions: 2670\n",
      "Metabolites: 2225\n",
      "Genes: 1312\n",
      "Model loaded\n",
      "Runnning pFBA\n"
     ]
    },
    {
     "data": {
      "text/html": [
       "<h3>Objective</h3><p>1.0 e_Biomass__cytop = 0.006960546885911509</p><h4>Uptake</h4><table border=\"1\" class=\"dataframe\">\n",
       "  <thead>\n",
       "    <tr style=\"text-align: right;\">\n",
       "      <th>Metabolite</th>\n",
       "      <th>Reaction</th>\n",
       "      <th>Flux</th>\n",
       "      <th>C-Number</th>\n",
       "      <th>C-Flux</th>\n",
       "    </tr>\n",
       "  </thead>\n",
       "  <tbody>\n",
       "    <tr>\n",
       "      <td>C00007__extr</td>\n",
       "      <td>EX_C00007__extr</td>\n",
       "      <td>0.01159</td>\n",
       "      <td>0</td>\n",
       "      <td>0.00%</td>\n",
       "    </tr>\n",
       "    <tr>\n",
       "      <td>C00009__extr</td>\n",
       "      <td>EX_C00009__extr</td>\n",
       "      <td>0.002004</td>\n",
       "      <td>0</td>\n",
       "      <td>0.00%</td>\n",
       "    </tr>\n",
       "    <tr>\n",
       "      <td>C00059__extr</td>\n",
       "      <td>EX_C00059__extr</td>\n",
       "      <td>0.001371</td>\n",
       "      <td>0</td>\n",
       "      <td>0.00%</td>\n",
       "    </tr>\n",
       "    <tr>\n",
       "      <td>C00078__extr</td>\n",
       "      <td>EX_C00078__extr</td>\n",
       "      <td>0.000399</td>\n",
       "      <td>11</td>\n",
       "      <td>0.24%</td>\n",
       "    </tr>\n",
       "    <tr>\n",
       "      <td>C00080__extr</td>\n",
       "      <td>EX_C00080__extr</td>\n",
       "      <td>0.08335</td>\n",
       "      <td>0</td>\n",
       "      <td>0.00%</td>\n",
       "    </tr>\n",
       "    <tr>\n",
       "      <td>C00244__extr</td>\n",
       "      <td>EX_C00244__extr</td>\n",
       "      <td>0.04409</td>\n",
       "      <td>0</td>\n",
       "      <td>0.00%</td>\n",
       "    </tr>\n",
       "    <tr>\n",
       "      <td>C00267__extr</td>\n",
       "      <td>EX_C00267__extr</td>\n",
       "      <td>0.3025</td>\n",
       "      <td>6</td>\n",
       "      <td>99.74%</td>\n",
       "    </tr>\n",
       "    <tr>\n",
       "      <td>C00378__extr</td>\n",
       "      <td>EX_C00378__extr</td>\n",
       "      <td>1.952E-05</td>\n",
       "      <td>12</td>\n",
       "      <td>0.01%</td>\n",
       "    </tr>\n",
       "    <tr>\n",
       "      <td>C02823__extr</td>\n",
       "      <td>EX_C02823__extr</td>\n",
       "      <td>2.02E-06</td>\n",
       "      <td>63</td>\n",
       "      <td>0.01%</td>\n",
       "    </tr>\n",
       "    <tr>\n",
       "      <td>C14818__extr</td>\n",
       "      <td>EX_C14818__extr</td>\n",
       "      <td>4.146E-05</td>\n",
       "      <td>0</td>\n",
       "      <td>0.00%</td>\n",
       "    </tr>\n",
       "  </tbody>\n",
       "</table><h4>Secretion</h4><table border=\"1\" class=\"dataframe\">\n",
       "  <thead>\n",
       "    <tr style=\"text-align: right;\">\n",
       "      <th>Metabolite</th>\n",
       "      <th>Reaction</th>\n",
       "      <th>Flux</th>\n",
       "      <th>C-Number</th>\n",
       "      <th>C-Flux</th>\n",
       "    </tr>\n",
       "  </thead>\n",
       "  <tbody>\n",
       "    <tr>\n",
       "      <td>C00001__extr</td>\n",
       "      <td>EX_C00001__extr</td>\n",
       "      <td>-0.5646</td>\n",
       "      <td>0</td>\n",
       "      <td>0.00%</td>\n",
       "    </tr>\n",
       "    <tr>\n",
       "      <td>C00011__extr</td>\n",
       "      <td>EX_C00011__extr</td>\n",
       "      <td>-0.1563</td>\n",
       "      <td>1</td>\n",
       "      <td>98.82%</td>\n",
       "    </tr>\n",
       "    <tr>\n",
       "      <td>C00079__extr</td>\n",
       "      <td>EX_C00079__extr</td>\n",
       "      <td>-0.0002079</td>\n",
       "      <td>9</td>\n",
       "      <td>1.18%</td>\n",
       "    </tr>\n",
       "    <tr>\n",
       "      <td>C00177__extr</td>\n",
       "      <td>EX_C00177__extr</td>\n",
       "      <td>-2.02E-06</td>\n",
       "      <td>1</td>\n",
       "      <td>0.00%</td>\n",
       "    </tr>\n",
       "  </tbody>\n",
       "</table>"
      ],
      "text/plain": [
       "<cobra.summary.model_summary.ModelSummary at 0x1e813f22610>"
      ]
     },
     "execution_count": 8,
     "metadata": {},
     "output_type": "execute_result"
    }
   ],
   "source": [
    "model = MyModel(r\"C:\\Users\\gonca\\Documents\\GitHub\\UC_projeto\\model.xml\", \"e_Biomass__cytop\")\n",
    "model.reactions.get_by_id(\"EX_C00078__extr\").bounds = (-10, 1000) #tryptophan\n",
    "model.reactions.get_by_id(\"EX_C00267__extr\").bounds = (-0.3025, 1000) #alpha-d-glucose\n",
    "model.reactions.get_by_id(\"EX_C00205__extr\").bounds = (-0,0) #photon\n",
    "model.reactions.get_by_id(\"EX_C00011__extr\").bounds = (-11.16,10000) #co2\n",
    "model.reactions.get_by_id(\"R03140__chlo\").bounds = (0, 0) # EC 4.1.1.39 \n",
    "model.reactions.get_by_id(\"R00024__chlo\").bounds = (0, 0) # EC 4.1.1.39 \n",
    "model.reactions.get_by_id(\"R00024__cytop\").bounds = (0, 0) # EC 4.1.1.39     -> confirmar se sao as msm reaçoes e enzimas que estao no artigo\n",
    "model.reactions.get_by_id(\"R01523__chlo\").bounds = (0, 0) # EC 2.7.1.19 \n",
    "model.reactions.get_by_id(\"R01063__chlo\").bounds = (0, 0) # EC 1.2.1.13 \n",
    "model.summary() #heterotrophic + tryptophan, should be between 0.040"
   ]
  },
  {
   "cell_type": "markdown",
   "metadata": {},
   "source": [
    "# Heterotrophic growth + Methionine"
   ]
  },
  {
   "cell_type": "code",
   "execution_count": 10,
   "metadata": {},
   "outputs": [
    {
     "name": "stderr",
     "output_type": "stream",
     "text": [
      "3077 does not conform to 'http(s)://identifiers.org/collection/id' or'http(s)://identifiers.org/COLLECTION:id\n"
     ]
    },
    {
     "name": "stdout",
     "output_type": "stream",
     "text": [
      "Loading\n",
      "\n"
     ]
    },
    {
     "name": "stderr",
     "output_type": "stream",
     "text": [
      "Could not identify an external compartment by name and choosing one with the most boundary reactions. That might be complete nonsense or change suddenly. Consider renaming your compartments using `Model.compartments` to fix this.\n"
     ]
    },
    {
     "name": "stdout",
     "output_type": "stream",
     "text": [
      "Reactions: 2670\n",
      "Metabolites: 2225\n",
      "Genes: 1312\n",
      "Model loaded\n",
      "Runnning pFBA\n"
     ]
    },
    {
     "data": {
      "text/html": [
       "<h3>Objective</h3><p>1.0 e_Biomass__cytop = 0.006958554517650255</p><h4>Uptake</h4><table border=\"1\" class=\"dataframe\">\n",
       "  <thead>\n",
       "    <tr style=\"text-align: right;\">\n",
       "      <th>Metabolite</th>\n",
       "      <th>Reaction</th>\n",
       "      <th>Flux</th>\n",
       "      <th>C-Number</th>\n",
       "      <th>C-Flux</th>\n",
       "    </tr>\n",
       "  </thead>\n",
       "  <tbody>\n",
       "    <tr>\n",
       "      <td>C00007__extr</td>\n",
       "      <td>EX_C00007__extr</td>\n",
       "      <td>0.01158</td>\n",
       "      <td>0</td>\n",
       "      <td>0.00%</td>\n",
       "    </tr>\n",
       "    <tr>\n",
       "      <td>C00009__extr</td>\n",
       "      <td>EX_C00009__extr</td>\n",
       "      <td>0.002003</td>\n",
       "      <td>0</td>\n",
       "      <td>0.00%</td>\n",
       "    </tr>\n",
       "    <tr>\n",
       "      <td>C00059__extr</td>\n",
       "      <td>EX_C00059__extr</td>\n",
       "      <td>0.0007741</td>\n",
       "      <td>0</td>\n",
       "      <td>0.00%</td>\n",
       "    </tr>\n",
       "    <tr>\n",
       "      <td>C00073__extr</td>\n",
       "      <td>EX_C00073__extr</td>\n",
       "      <td>0.0005961</td>\n",
       "      <td>5</td>\n",
       "      <td>0.16%</td>\n",
       "    </tr>\n",
       "    <tr>\n",
       "      <td>C00080__extr</td>\n",
       "      <td>EX_C00080__extr</td>\n",
       "      <td>0.08233</td>\n",
       "      <td>0</td>\n",
       "      <td>0.00%</td>\n",
       "    </tr>\n",
       "    <tr>\n",
       "      <td>C00244__extr</td>\n",
       "      <td>EX_C00244__extr</td>\n",
       "      <td>0.04428</td>\n",
       "      <td>0</td>\n",
       "      <td>0.00%</td>\n",
       "    </tr>\n",
       "    <tr>\n",
       "      <td>C00267__extr</td>\n",
       "      <td>EX_C00267__extr</td>\n",
       "      <td>0.3025</td>\n",
       "      <td>6</td>\n",
       "      <td>99.82%</td>\n",
       "    </tr>\n",
       "    <tr>\n",
       "      <td>C00378__extr</td>\n",
       "      <td>EX_C00378__extr</td>\n",
       "      <td>1.952E-05</td>\n",
       "      <td>12</td>\n",
       "      <td>0.01%</td>\n",
       "    </tr>\n",
       "    <tr>\n",
       "      <td>C02823__extr</td>\n",
       "      <td>EX_C02823__extr</td>\n",
       "      <td>2.019E-06</td>\n",
       "      <td>63</td>\n",
       "      <td>0.01%</td>\n",
       "    </tr>\n",
       "    <tr>\n",
       "      <td>C14818__extr</td>\n",
       "      <td>EX_C14818__extr</td>\n",
       "      <td>4.145E-05</td>\n",
       "      <td>0</td>\n",
       "      <td>0.00%</td>\n",
       "    </tr>\n",
       "  </tbody>\n",
       "</table><h4>Secretion</h4><table border=\"1\" class=\"dataframe\">\n",
       "  <thead>\n",
       "    <tr style=\"text-align: right;\">\n",
       "      <th>Metabolite</th>\n",
       "      <th>Reaction</th>\n",
       "      <th>Flux</th>\n",
       "      <th>C-Number</th>\n",
       "      <th>C-Flux</th>\n",
       "    </tr>\n",
       "  </thead>\n",
       "  <tbody>\n",
       "    <tr>\n",
       "      <td>C00001__extr</td>\n",
       "      <td>EX_C00001__extr</td>\n",
       "      <td>-0.5654</td>\n",
       "      <td>0</td>\n",
       "      <td>0.00%</td>\n",
       "    </tr>\n",
       "    <tr>\n",
       "      <td>C00011__extr</td>\n",
       "      <td>EX_C00011__extr</td>\n",
       "      <td>-0.1554</td>\n",
       "      <td>1</td>\n",
       "      <td>98.81%</td>\n",
       "    </tr>\n",
       "    <tr>\n",
       "      <td>C00079__extr</td>\n",
       "      <td>EX_C00079__extr</td>\n",
       "      <td>-0.0002079</td>\n",
       "      <td>9</td>\n",
       "      <td>1.19%</td>\n",
       "    </tr>\n",
       "    <tr>\n",
       "      <td>C00177__extr</td>\n",
       "      <td>EX_C00177__extr</td>\n",
       "      <td>-2.019E-06</td>\n",
       "      <td>1</td>\n",
       "      <td>0.00%</td>\n",
       "    </tr>\n",
       "  </tbody>\n",
       "</table>"
      ],
      "text/plain": [
       "<cobra.summary.model_summary.ModelSummary at 0x1e814ff82d0>"
      ]
     },
     "execution_count": 10,
     "metadata": {},
     "output_type": "execute_result"
    }
   ],
   "source": [
    "model = MyModel(r\"C:\\Users\\gonca\\Documents\\GitHub\\UC_projeto\\model.xml\", \"e_Biomass__cytop\")\n",
    "model.reactions.get_by_id(\"EX_C00267__extr\").bounds = (-0.3025, 1000) #alpha-d-glucose\n",
    "model.reactions.get_by_id(\"EX_C00011__extr\").bounds = (-11.16,10000) #co2\n",
    "model.reactions.get_by_id(\"EX_C00205__extr\").bounds = (-0,0) #photon\n",
    "model.reactions.get_by_id(\"EX_C00073__extr\").bounds = (-10, 1000) #methionine\n",
    "model.reactions.get_by_id(\"R03140__chlo\").bounds = (0, 0) # EC 4.1.1.39 \n",
    "model.reactions.get_by_id(\"R00024__chlo\").bounds = (0, 0) # EC 4.1.1.39 \n",
    "model.reactions.get_by_id(\"R00024__cytop\").bounds = (0, 0) # EC 4.1.1.39     -> confirmar se sao as msm reaçoes e enzimas que estao no artigo\n",
    "model.reactions.get_by_id(\"R01523__chlo\").bounds = (0, 0) # EC 2.7.1.19 \n",
    "model.reactions.get_by_id(\"R01063__chlo\").bounds = (0, 0) # EC 1.2.1.13 \n",
    "model.summary() #heterotrophic + methionine, should be 0.032"
   ]
  },
  {
   "cell_type": "markdown",
   "metadata": {},
   "source": [
    "# Heterotrophic growth + Acetate"
   ]
  },
  {
   "cell_type": "code",
   "execution_count": 11,
   "metadata": {},
   "outputs": [
    {
     "name": "stderr",
     "output_type": "stream",
     "text": [
      "3077 does not conform to 'http(s)://identifiers.org/collection/id' or'http(s)://identifiers.org/COLLECTION:id\n"
     ]
    },
    {
     "name": "stdout",
     "output_type": "stream",
     "text": [
      "Loading\n",
      "\n"
     ]
    },
    {
     "name": "stderr",
     "output_type": "stream",
     "text": [
      "Could not identify an external compartment by name and choosing one with the most boundary reactions. That might be complete nonsense or change suddenly. Consider renaming your compartments using `Model.compartments` to fix this.\n"
     ]
    },
    {
     "name": "stdout",
     "output_type": "stream",
     "text": [
      "Reactions: 2670\n",
      "Metabolites: 2225\n",
      "Genes: 1312\n",
      "Model loaded\n",
      "Runnning pFBA\n"
     ]
    },
    {
     "data": {
      "text/html": [
       "<h3>Objective</h3><p>1.0 e_Biomass__cytop = 0.006936909690559146</p><h4>Uptake</h4><table border=\"1\" class=\"dataframe\">\n",
       "  <thead>\n",
       "    <tr style=\"text-align: right;\">\n",
       "      <th>Metabolite</th>\n",
       "      <th>Reaction</th>\n",
       "      <th>Flux</th>\n",
       "      <th>C-Number</th>\n",
       "      <th>C-Flux</th>\n",
       "    </tr>\n",
       "  </thead>\n",
       "  <tbody>\n",
       "    <tr>\n",
       "      <td>C00007__extr</td>\n",
       "      <td>EX_C00007__extr</td>\n",
       "      <td>0.01155</td>\n",
       "      <td>0</td>\n",
       "      <td>0.00%</td>\n",
       "    </tr>\n",
       "    <tr>\n",
       "      <td>C00009__extr</td>\n",
       "      <td>EX_C00009__extr</td>\n",
       "      <td>0.001997</td>\n",
       "      <td>0</td>\n",
       "      <td>0.00%</td>\n",
       "    </tr>\n",
       "    <tr>\n",
       "      <td>C00059__extr</td>\n",
       "      <td>EX_C00059__extr</td>\n",
       "      <td>0.001366</td>\n",
       "      <td>0</td>\n",
       "      <td>0.00%</td>\n",
       "    </tr>\n",
       "    <tr>\n",
       "      <td>C00080__extr</td>\n",
       "      <td>EX_C00080__extr</td>\n",
       "      <td>0.08386</td>\n",
       "      <td>0</td>\n",
       "      <td>0.00%</td>\n",
       "    </tr>\n",
       "    <tr>\n",
       "      <td>C00244__extr</td>\n",
       "      <td>EX_C00244__extr</td>\n",
       "      <td>0.04473</td>\n",
       "      <td>0</td>\n",
       "      <td>0.00%</td>\n",
       "    </tr>\n",
       "    <tr>\n",
       "      <td>C00267__extr</td>\n",
       "      <td>EX_C00267__extr</td>\n",
       "      <td>0.3025</td>\n",
       "      <td>6</td>\n",
       "      <td>99.98%</td>\n",
       "    </tr>\n",
       "    <tr>\n",
       "      <td>C00378__extr</td>\n",
       "      <td>EX_C00378__extr</td>\n",
       "      <td>1.946E-05</td>\n",
       "      <td>12</td>\n",
       "      <td>0.01%</td>\n",
       "    </tr>\n",
       "    <tr>\n",
       "      <td>C02823__extr</td>\n",
       "      <td>EX_C02823__extr</td>\n",
       "      <td>2.013E-06</td>\n",
       "      <td>63</td>\n",
       "      <td>0.01%</td>\n",
       "    </tr>\n",
       "    <tr>\n",
       "      <td>C14818__extr</td>\n",
       "      <td>EX_C14818__extr</td>\n",
       "      <td>4.132E-05</td>\n",
       "      <td>0</td>\n",
       "      <td>0.00%</td>\n",
       "    </tr>\n",
       "  </tbody>\n",
       "</table><h4>Secretion</h4><table border=\"1\" class=\"dataframe\">\n",
       "  <thead>\n",
       "    <tr style=\"text-align: right;\">\n",
       "      <th>Metabolite</th>\n",
       "      <th>Reaction</th>\n",
       "      <th>Flux</th>\n",
       "      <th>C-Number</th>\n",
       "      <th>C-Flux</th>\n",
       "    </tr>\n",
       "  </thead>\n",
       "  <tbody>\n",
       "    <tr>\n",
       "      <td>C00001__extr</td>\n",
       "      <td>EX_C00001__extr</td>\n",
       "      <td>-0.5669</td>\n",
       "      <td>0</td>\n",
       "      <td>0.00%</td>\n",
       "    </tr>\n",
       "    <tr>\n",
       "      <td>C00011__extr</td>\n",
       "      <td>EX_C00011__extr</td>\n",
       "      <td>-0.1576</td>\n",
       "      <td>1</td>\n",
       "      <td>98.83%</td>\n",
       "    </tr>\n",
       "    <tr>\n",
       "      <td>C00079__extr</td>\n",
       "      <td>EX_C00079__extr</td>\n",
       "      <td>-0.0002072</td>\n",
       "      <td>9</td>\n",
       "      <td>1.17%</td>\n",
       "    </tr>\n",
       "    <tr>\n",
       "      <td>C00177__extr</td>\n",
       "      <td>EX_C00177__extr</td>\n",
       "      <td>-2.013E-06</td>\n",
       "      <td>1</td>\n",
       "      <td>0.00%</td>\n",
       "    </tr>\n",
       "  </tbody>\n",
       "</table>"
      ],
      "text/plain": [
       "<cobra.summary.model_summary.ModelSummary at 0x1e815381350>"
      ]
     },
     "execution_count": 11,
     "metadata": {},
     "output_type": "execute_result"
    }
   ],
   "source": [
    "model = MyModel(r\"C:\\Users\\gonca\\Documents\\GitHub\\UC_projeto\\model.xml\", \"e_Biomass__cytop\")\n",
    "model.reactions.get_by_id(\"EX_C00267__extr\").bounds = (-0.3025, 1000) #alpha-d-glucose\n",
    "model.reactions.get_by_id(\"EX_C00205__extr\").bounds = (-0,0) #photon\n",
    "model.reactions.get_by_id(\"EX_C00011__extr\").bounds = (-11.16,10000) #co2\n",
    "model.reactions.get_by_id(\"EX_C00033__extr\").bounds = (-15, 1000) #acetate\n",
    "model.reactions.get_by_id(\"R03140__chlo\").bounds = (0, 0) # EC 4.1.1.39 \n",
    "model.reactions.get_by_id(\"R00024__chlo\").bounds = (0, 0) # EC 4.1.1.39 \n",
    "model.reactions.get_by_id(\"R00024__cytop\").bounds = (0, 0) # EC 4.1.1.39     -> confirmar se sao as msm reaçoes e enzimas que estao no artigo\n",
    "model.reactions.get_by_id(\"R01523__chlo\").bounds = (0, 0) # EC 2.7.1.19 \n",
    "model.reactions.get_by_id(\"R01063__chlo\").bounds = (0, 0) # EC 1.2.1.13 \n",
    "model.summary() #heterotrophic + acetate, should be 0.017"
   ]
  },
  {
   "cell_type": "markdown",
   "metadata": {},
   "source": [
    "# Mixotrophic growth"
   ]
  },
  {
   "cell_type": "code",
   "execution_count": 12,
   "metadata": {},
   "outputs": [
    {
     "name": "stdout",
     "output_type": "stream",
     "text": [
      "Loading\n",
      "\n"
     ]
    },
    {
     "name": "stderr",
     "output_type": "stream",
     "text": [
      "3077 does not conform to 'http(s)://identifiers.org/collection/id' or'http(s)://identifiers.org/COLLECTION:id\n",
      "Could not identify an external compartment by name and choosing one with the most boundary reactions. That might be complete nonsense or change suddenly. Consider renaming your compartments using `Model.compartments` to fix this.\n"
     ]
    },
    {
     "name": "stdout",
     "output_type": "stream",
     "text": [
      "Reactions: 2670\n",
      "Metabolites: 2225\n",
      "Genes: 1312\n",
      "Model loaded\n",
      "Runnning pFBA\n"
     ]
    },
    {
     "data": {
      "text/html": [
       "<h3>Objective</h3><p>1.0 e_Biomass__cytop = 0.038697636703535924</p><h4>Uptake</h4><table border=\"1\" class=\"dataframe\">\n",
       "  <thead>\n",
       "    <tr style=\"text-align: right;\">\n",
       "      <th>Metabolite</th>\n",
       "      <th>Reaction</th>\n",
       "      <th>Flux</th>\n",
       "      <th>C-Number</th>\n",
       "      <th>C-Flux</th>\n",
       "    </tr>\n",
       "  </thead>\n",
       "  <tbody>\n",
       "    <tr>\n",
       "      <td>C00001__extr</td>\n",
       "      <td>EX_C00001__extr</td>\n",
       "      <td>5.148</td>\n",
       "      <td>0</td>\n",
       "      <td>0.00%</td>\n",
       "    </tr>\n",
       "    <tr>\n",
       "      <td>C00007__extr</td>\n",
       "      <td>EX_C00007__extr</td>\n",
       "      <td>0.06442</td>\n",
       "      <td>0</td>\n",
       "      <td>0.00%</td>\n",
       "    </tr>\n",
       "    <tr>\n",
       "      <td>C00009__extr</td>\n",
       "      <td>EX_C00009__extr</td>\n",
       "      <td>0.01114</td>\n",
       "      <td>0</td>\n",
       "      <td>0.00%</td>\n",
       "    </tr>\n",
       "    <tr>\n",
       "      <td>C00011__extr</td>\n",
       "      <td>EX_C00011__extr</td>\n",
       "      <td>7.431</td>\n",
       "      <td>1</td>\n",
       "      <td>80.35%</td>\n",
       "    </tr>\n",
       "    <tr>\n",
       "      <td>C00059__extr</td>\n",
       "      <td>EX_C00059__extr</td>\n",
       "      <td>0.00762</td>\n",
       "      <td>0</td>\n",
       "      <td>0.00%</td>\n",
       "    </tr>\n",
       "    <tr>\n",
       "      <td>C00080__extr</td>\n",
       "      <td>EX_C00080__extr</td>\n",
       "      <td>0.4678</td>\n",
       "      <td>0</td>\n",
       "      <td>0.00%</td>\n",
       "    </tr>\n",
       "    <tr>\n",
       "      <td>C00205__extr</td>\n",
       "      <td>EX_C00205__extr</td>\n",
       "      <td>182</td>\n",
       "      <td>0</td>\n",
       "      <td>0.00%</td>\n",
       "    </tr>\n",
       "    <tr>\n",
       "      <td>C00244__extr</td>\n",
       "      <td>EX_C00244__extr</td>\n",
       "      <td>0.2496</td>\n",
       "      <td>0</td>\n",
       "      <td>0.00%</td>\n",
       "    </tr>\n",
       "    <tr>\n",
       "      <td>C00267__extr</td>\n",
       "      <td>EX_C00267__extr</td>\n",
       "      <td>0.3025</td>\n",
       "      <td>6</td>\n",
       "      <td>19.63%</td>\n",
       "    </tr>\n",
       "    <tr>\n",
       "      <td>C00378__extr</td>\n",
       "      <td>EX_C00378__extr</td>\n",
       "      <td>0.0001085</td>\n",
       "      <td>12</td>\n",
       "      <td>0.01%</td>\n",
       "    </tr>\n",
       "    <tr>\n",
       "      <td>C02823__extr</td>\n",
       "      <td>EX_C02823__extr</td>\n",
       "      <td>1.123E-05</td>\n",
       "      <td>63</td>\n",
       "      <td>0.01%</td>\n",
       "    </tr>\n",
       "    <tr>\n",
       "      <td>C14818__extr</td>\n",
       "      <td>EX_C14818__extr</td>\n",
       "      <td>0.0002305</td>\n",
       "      <td>0</td>\n",
       "      <td>0.00%</td>\n",
       "    </tr>\n",
       "  </tbody>\n",
       "</table><h4>Secretion</h4><table border=\"1\" class=\"dataframe\">\n",
       "  <thead>\n",
       "    <tr style=\"text-align: right;\">\n",
       "      <th>Metabolite</th>\n",
       "      <th>Reaction</th>\n",
       "      <th>Flux</th>\n",
       "      <th>C-Number</th>\n",
       "      <th>C-Flux</th>\n",
       "    </tr>\n",
       "  </thead>\n",
       "  <tbody>\n",
       "    <tr>\n",
       "      <td>o2d__lum</td>\n",
       "      <td>DM_o2D__lum</td>\n",
       "      <td>-8.31</td>\n",
       "      <td>0</td>\n",
       "      <td>0.00%</td>\n",
       "    </tr>\n",
       "    <tr>\n",
       "      <td>photon298__cytop</td>\n",
       "      <td>DM_photon298__cytop</td>\n",
       "      <td>-0.00777</td>\n",
       "      <td>0</td>\n",
       "      <td>0.00%</td>\n",
       "    </tr>\n",
       "    <tr>\n",
       "      <td>photon438__lum</td>\n",
       "      <td>DM_photon438__lum</td>\n",
       "      <td>-16.08</td>\n",
       "      <td>0</td>\n",
       "      <td>0.00%</td>\n",
       "    </tr>\n",
       "    <tr>\n",
       "      <td>photon450__chlo</td>\n",
       "      <td>DM_photon450__chlo</td>\n",
       "      <td>-20.92</td>\n",
       "      <td>0</td>\n",
       "      <td>0.00%</td>\n",
       "    </tr>\n",
       "    <tr>\n",
       "      <td>photon490__chlo</td>\n",
       "      <td>DM_photon490__chlo</td>\n",
       "      <td>-35.63</td>\n",
       "      <td>0</td>\n",
       "      <td>0.00%</td>\n",
       "    </tr>\n",
       "    <tr>\n",
       "      <td>photon646__chlo</td>\n",
       "      <td>DM_photon646__chlo</td>\n",
       "      <td>-33.79</td>\n",
       "      <td>0</td>\n",
       "      <td>0.00%</td>\n",
       "    </tr>\n",
       "    <tr>\n",
       "      <td>C00079__extr</td>\n",
       "      <td>EX_C00079__extr</td>\n",
       "      <td>-0.001156</td>\n",
       "      <td>9</td>\n",
       "      <td>99.89%</td>\n",
       "    </tr>\n",
       "    <tr>\n",
       "      <td>C00177__extr</td>\n",
       "      <td>EX_C00177__extr</td>\n",
       "      <td>-1.123E-05</td>\n",
       "      <td>1</td>\n",
       "      <td>0.11%</td>\n",
       "    </tr>\n",
       "  </tbody>\n",
       "</table>"
      ],
      "text/plain": [
       "<cobra.summary.model_summary.ModelSummary at 0x1e815ba5090>"
      ]
     },
     "execution_count": 12,
     "metadata": {},
     "output_type": "execute_result"
    }
   ],
   "source": [
    "model = MyModel(r\"C:\\Users\\gonca\\Documents\\GitHub\\UC_projeto\\model.xml\", \"e_Biomass__cytop\")\n",
    "model.reactions.get_by_id(\"EX_C00267__extr\").bounds = (-0.3025, 1000) #alpha-d-glucose\n",
    "model.reactions.get_by_id(\"DM_o2D__lum\").bounds = (0, 8.31)\n",
    "model.summary() # Mixotrophic growth, should be between 0.02-0.03"
   ]
  },
  {
   "cell_type": "markdown",
   "metadata": {},
   "source": [
    "# Growth rate for photoautotrophic growth at different CO2"
   ]
  },
  {
   "cell_type": "code",
   "execution_count": null,
   "metadata": {},
   "outputs": [],
   "source": [
    "l = []\n",
    "co2 = []\n",
    "for x in range(0, 22, 2):\n",
    "    model = MyModel(r\"C:\\Users\\gonca\\Documents\\GitHub\\UC_projeto\\model.xml\", \"e_Biomass__cytop\")\n",
    "    model.reactions.get_by_id(\"DM_o2D__lum\").bounds = (0, 8.31)\n",
    "    model.reactions.get_by_id(\"EX_C00011__extr\").bounds = (-x, 1000) \n",
    "    sol = model.optimize().objective_value\n",
    "    l.append(sol)\n",
    "    co2.append(x)"
   ]
  },
  {
   "cell_type": "code",
   "execution_count": 19,
   "metadata": {},
   "outputs": [
    {
     "data": {
      "image/png": "[encoded data removed]",
      "text/plain": [
       "<Figure size 640x480 with 1 Axes>"
      ]
     },
     "metadata": {},
     "output_type": "display_data"
    }
   ],
   "source": [
    "import matplotlib.pyplot as plt\n",
    "\n",
    "plt.plot(co2, l)\n",
    "plt.xlabel(\"CO2\")\n",
    "plt.ylabel(\"Growth rate\")\n",
    "plt.title(\"Autotrophic growth\")  \n",
    "plt.xlim(0) \n",
    "plt.ylim(0) \n",
    "\n",
    "plt.show()"
   ]
  },
  {
   "cell_type": "markdown",
   "metadata": {},
   "source": [
    "Theoretical growth rate after the addition of ..."
   ]
  },
  {
   "cell_type": "code",
   "execution_count": 25,
   "metadata": {},
   "outputs": [
    {
     "name": "stderr",
     "output_type": "stream",
     "text": [
      "3077 does not conform to 'http(s)://identifiers.org/collection/id' or'http(s)://identifiers.org/COLLECTION:id\n"
     ]
    },
    {
     "name": "stdout",
     "output_type": "stream",
     "text": [
      "Loading\n",
      "\n"
     ]
    },
    {
     "name": "stderr",
     "output_type": "stream",
     "text": [
      "Could not identify an external compartment by name and choosing one with the most boundary reactions. That might be complete nonsense or change suddenly. Consider renaming your compartments using `Model.compartments` to fix this.\n"
     ]
    },
    {
     "name": "stdout",
     "output_type": "stream",
     "text": [
      "Reactions: 2666\n",
      "Metabolites: 2223\n",
      "Genes: 1312\n",
      "Model loaded\n",
      "Runnning pFBA\n"
     ]
    },
    {
     "data": {
      "text/html": [
       "<h3>Objective</h3><p>1.0 e_Biomass__cytop = 0.024546885477089223</p><h4>Uptake</h4><table border=\"1\" class=\"dataframe\">\n",
       "  <thead>\n",
       "    <tr style=\"text-align: right;\">\n",
       "      <th>Metabolite</th>\n",
       "      <th>Reaction</th>\n",
       "      <th>Flux</th>\n",
       "      <th>C-Number</th>\n",
       "      <th>C-Flux</th>\n",
       "    </tr>\n",
       "  </thead>\n",
       "  <tbody>\n",
       "    <tr>\n",
       "      <td>C00001__extr</td>\n",
       "      <td>EX_C00001__extr</td>\n",
       "      <td>5.99</td>\n",
       "      <td>0</td>\n",
       "      <td>0.00%</td>\n",
       "    </tr>\n",
       "    <tr>\n",
       "      <td>C00007__extr</td>\n",
       "      <td>EX_C00007__extr</td>\n",
       "      <td>0.04091</td>\n",
       "      <td>0</td>\n",
       "      <td>0.00%</td>\n",
       "    </tr>\n",
       "    <tr>\n",
       "      <td>C00009__extr</td>\n",
       "      <td>EX_C00009__extr</td>\n",
       "      <td>0.007067</td>\n",
       "      <td>0</td>\n",
       "      <td>0.00%</td>\n",
       "    </tr>\n",
       "    <tr>\n",
       "      <td>C00011__extr</td>\n",
       "      <td>EX_C00011__extr</td>\n",
       "      <td>7.752</td>\n",
       "      <td>1</td>\n",
       "      <td>99.98%</td>\n",
       "    </tr>\n",
       "    <tr>\n",
       "      <td>C00059__extr</td>\n",
       "      <td>EX_C00059__extr</td>\n",
       "      <td>0.004834</td>\n",
       "      <td>0</td>\n",
       "      <td>0.00%</td>\n",
       "    </tr>\n",
       "    <tr>\n",
       "      <td>C00080__extr</td>\n",
       "      <td>EX_C00080__extr</td>\n",
       "      <td>0.2967</td>\n",
       "      <td>0</td>\n",
       "      <td>0.00%</td>\n",
       "    </tr>\n",
       "    <tr>\n",
       "      <td>C00205__extr</td>\n",
       "      <td>EX_C00205__extr</td>\n",
       "      <td>182</td>\n",
       "      <td>0</td>\n",
       "      <td>0.00%</td>\n",
       "    </tr>\n",
       "    <tr>\n",
       "      <td>C00244__extr</td>\n",
       "      <td>EX_C00244__extr</td>\n",
       "      <td>0.1583</td>\n",
       "      <td>0</td>\n",
       "      <td>0.00%</td>\n",
       "    </tr>\n",
       "    <tr>\n",
       "      <td>C00378__extr</td>\n",
       "      <td>EX_C00378__extr</td>\n",
       "      <td>6.885E-05</td>\n",
       "      <td>12</td>\n",
       "      <td>0.01%</td>\n",
       "    </tr>\n",
       "    <tr>\n",
       "      <td>C02823__extr</td>\n",
       "      <td>EX_C02823__extr</td>\n",
       "      <td>7.123E-06</td>\n",
       "      <td>63</td>\n",
       "      <td>0.01%</td>\n",
       "    </tr>\n",
       "    <tr>\n",
       "      <td>C14818__extr</td>\n",
       "      <td>EX_C14818__extr</td>\n",
       "      <td>0.0001462</td>\n",
       "      <td>0</td>\n",
       "      <td>0.00%</td>\n",
       "    </tr>\n",
       "  </tbody>\n",
       "</table><h4>Secretion</h4><table border=\"1\" class=\"dataframe\">\n",
       "  <thead>\n",
       "    <tr style=\"text-align: right;\">\n",
       "      <th>Metabolite</th>\n",
       "      <th>Reaction</th>\n",
       "      <th>Flux</th>\n",
       "      <th>C-Number</th>\n",
       "      <th>C-Flux</th>\n",
       "    </tr>\n",
       "  </thead>\n",
       "  <tbody>\n",
       "    <tr>\n",
       "      <td>o2d__lum</td>\n",
       "      <td>DM_o2D__lum</td>\n",
       "      <td>-8.31</td>\n",
       "      <td>0</td>\n",
       "      <td>0.00%</td>\n",
       "    </tr>\n",
       "    <tr>\n",
       "      <td>photon298__cytop</td>\n",
       "      <td>DM_photon298__cytop</td>\n",
       "      <td>-0.00777</td>\n",
       "      <td>0</td>\n",
       "      <td>0.00%</td>\n",
       "    </tr>\n",
       "    <tr>\n",
       "      <td>photon438__lum</td>\n",
       "      <td>DM_photon438__lum</td>\n",
       "      <td>-0.8613</td>\n",
       "      <td>0</td>\n",
       "      <td>0.00%</td>\n",
       "    </tr>\n",
       "    <tr>\n",
       "      <td>photon450__chlo</td>\n",
       "      <td>DM_photon450__chlo</td>\n",
       "      <td>-20.92</td>\n",
       "      <td>0</td>\n",
       "      <td>0.00%</td>\n",
       "    </tr>\n",
       "    <tr>\n",
       "      <td>photon490__chlo</td>\n",
       "      <td>DM_photon490__chlo</td>\n",
       "      <td>-35.63</td>\n",
       "      <td>0</td>\n",
       "      <td>0.00%</td>\n",
       "    </tr>\n",
       "    <tr>\n",
       "      <td>photon646__chlo</td>\n",
       "      <td>DM_photon646__chlo</td>\n",
       "      <td>-33.79</td>\n",
       "      <td>0</td>\n",
       "      <td>0.00%</td>\n",
       "    </tr>\n",
       "    <tr>\n",
       "      <td>photon673__lum</td>\n",
       "      <td>DM_photon673__lum</td>\n",
       "      <td>-15.22</td>\n",
       "      <td>0</td>\n",
       "      <td>0.00%</td>\n",
       "    </tr>\n",
       "    <tr>\n",
       "      <td>C00079__extr</td>\n",
       "      <td>EX_C00079__extr</td>\n",
       "      <td>-0.0007333</td>\n",
       "      <td>9</td>\n",
       "      <td>99.89%</td>\n",
       "    </tr>\n",
       "    <tr>\n",
       "      <td>C00177__extr</td>\n",
       "      <td>EX_C00177__extr</td>\n",
       "      <td>-7.123E-06</td>\n",
       "      <td>1</td>\n",
       "      <td>0.11%</td>\n",
       "    </tr>\n",
       "  </tbody>\n",
       "</table>"
      ],
      "text/plain": [
       "<cobra.summary.model_summary.ModelSummary at 0x1a91be54150>"
      ]
     },
     "execution_count": 25,
     "metadata": {},
     "output_type": "execute_result"
    }
   ],
   "source": [
    "model = MyModel(r\"C:\\Users\\gonca\\Documents\\GitHub\\UC_projeto\\model.xml\", \"e_Biomass__cytop\")\n",
    "#model.reactions.get_by_id(\"EX_C00267__extr\").bounds = (-0.3025, 1000) #alpha-d-glucose\n",
    "model.reactions.get_by_id(\"DM_o2D__lum\").bounds = (0, 8.31)\n",
    "model.reactions.get_by_id(\"EX_C00033__extr\").bounds = (-10, 10000)\n",
    "model.summary()"
   ]
  },
  {
   "cell_type": "code",
   "execution_count": null,
   "metadata": {},
   "outputs": [],
   "source": []
  },
  {
   "cell_type": "code",
   "execution_count": null,
   "metadata": {},
   "outputs": [],
   "source": []
  },
  {
   "cell_type": "code",
   "execution_count": null,
   "metadata": {},
   "outputs": [],
   "source": []
  },
  {
   "cell_type": "code",
   "execution_count": null,
   "metadata": {},
   "outputs": [],
   "source": []
  },
  {
   "cell_type": "code",
   "execution_count": null,
   "metadata": {},
   "outputs": [],
   "source": []
  }
 ],
 "metadata": {
  "kernelspec": {
   "display_name": "base",
   "language": "python",
   "name": "python3"
  },
  "language_info": {
   "codemirror_mode": {
    "name": "ipython",
    "version": 3
   },
   "file_extension": ".py",
   "mimetype": "text/x-python",
   "name": "python",
   "nbconvert_exporter": "python",
   "pygments_lexer": "ipython3",
   "version": "3.11.5"
  }
 },
 "nbformat": 4,
 "nbformat_minor": 2
}
