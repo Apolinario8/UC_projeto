{
 "cells": [
  {
   "cell_type": "code",
   "execution_count": 1,
   "metadata": {},
   "outputs": [],
   "source": [
    "import sys \n",
    "from COBRAmodel import MyModel"
   ]
  },
  {
   "cell_type": "code",
   "execution_count": 2,
   "metadata": {},
   "outputs": [
    {
     "name": "stdout",
     "output_type": "stream",
     "text": [
      "Loading\n",
      "\n"
     ]
    },
    {
     "name": "stderr",
     "output_type": "stream",
     "text": [
      "Could not identify an external compartment by name and choosing one with the most boundary reactions. That might be complete nonsense or change suddenly. Consider renaming your compartments using `Model.compartments` to fix this.\n"
     ]
    },
    {
     "name": "stdout",
     "output_type": "stream",
     "text": [
      "Reactions: 3515\n",
      "Metabolites: 3660\n",
      "Genes: 1690\n",
      "Model loaded\n"
     ]
    }
   ],
   "source": [
    "model = MyModel(r\"C:\\Users\\gonca\\OneDrive\\Documentos\\GitHub\\UC_projeto\\model_compare.xml\", \"e_Biomass__cytop\")"
   ]
  },
  {
   "cell_type": "code",
   "execution_count": 7,
   "metadata": {},
   "outputs": [
    {
     "name": "stderr",
     "output_type": "stream",
     "text": [
      "Could not identify an external compartment by name and choosing one with the most boundary reactions. That might be complete nonsense or change suddenly. Consider renaming your compartments using `Model.compartments` to fix this.\n"
     ]
    },
    {
     "data": {
      "text/html": [
       "<div>\n",
       "<style scoped>\n",
       "    .dataframe tbody tr th:only-of-type {\n",
       "        vertical-align: middle;\n",
       "    }\n",
       "\n",
       "    .dataframe tbody tr th {\n",
       "        vertical-align: top;\n",
       "    }\n",
       "\n",
       "    .dataframe thead th {\n",
       "        text-align: right;\n",
       "    }\n",
       "</style>\n",
       "<table border=\"1\" class=\"dataframe\">\n",
       "  <thead>\n",
       "    <tr style=\"text-align: right;\">\n",
       "      <th></th>\n",
       "      <th>Flux</th>\n",
       "    </tr>\n",
       "  </thead>\n",
       "  <tbody>\n",
       "    <tr>\n",
       "      <th>1,2-Diacyl-sn-glycerol</th>\n",
       "      <td>0.204705</td>\n",
       "    </tr>\n",
       "    <tr>\n",
       "      <th>Sulfoquinovosyldiacylglycerol</th>\n",
       "      <td>0.194050</td>\n",
       "    </tr>\n",
       "    <tr>\n",
       "      <th>1-Phosphatidyl-D-myo-inositol</th>\n",
       "      <td>0.189694</td>\n",
       "    </tr>\n",
       "    <tr>\n",
       "      <th>1,2-Diacyl-3-beta-D-galactosyl-sn-glycerol</th>\n",
       "      <td>0.192765</td>\n",
       "    </tr>\n",
       "    <tr>\n",
       "      <th>Phosphatidylcholine</th>\n",
       "      <td>0.195551</td>\n",
       "    </tr>\n",
       "    <tr>\n",
       "      <th>Phosphatidylethanolamine</th>\n",
       "      <td>0.212756</td>\n",
       "    </tr>\n",
       "    <tr>\n",
       "      <th>Triacylglycerol</th>\n",
       "      <td>0.140534</td>\n",
       "    </tr>\n",
       "    <tr>\n",
       "      <th>Phosphatidylglycerol</th>\n",
       "      <td>0.209136</td>\n",
       "    </tr>\n",
       "    <tr>\n",
       "      <th>Digalactosyl-diacylglycerol</th>\n",
       "      <td>0.169976</td>\n",
       "    </tr>\n",
       "    <tr>\n",
       "      <th>Fatty acid</th>\n",
       "      <td>0.448095</td>\n",
       "    </tr>\n",
       "    <tr>\n",
       "      <th>Diacylglyceryl-N,N,N-trimethylhomoserine</th>\n",
       "      <td>0.180262</td>\n",
       "    </tr>\n",
       "    <tr>\n",
       "      <th>Cardiolipin</th>\n",
       "      <td>0.123777</td>\n",
       "    </tr>\n",
       "  </tbody>\n",
       "</table>\n",
       "</div>"
      ],
      "text/plain": [
       "                                                Flux\n",
       "1,2-Diacyl-sn-glycerol                      0.204705\n",
       "Sulfoquinovosyldiacylglycerol               0.194050\n",
       "1-Phosphatidyl-D-myo-inositol               0.189694\n",
       "1,2-Diacyl-3-beta-D-galactosyl-sn-glycerol  0.192765\n",
       "Phosphatidylcholine                         0.195551\n",
       "Phosphatidylethanolamine                    0.212756\n",
       "Triacylglycerol                             0.140534\n",
       "Phosphatidylglycerol                        0.209136\n",
       "Digalactosyl-diacylglycerol                 0.169976\n",
       "Fatty acid                                  0.448095\n",
       "Diacylglyceryl-N,N,N-trimethylhomoserine    0.180262\n",
       "Cardiolipin                                 0.123777"
      ]
     },
     "execution_count": 7,
     "metadata": {},
     "output_type": "execute_result"
    }
   ],
   "source": [
    "model.test_reaction(\"e_Lipid__cytop\")"
   ]
  },
  {
   "cell_type": "code",
   "execution_count": 5,
   "metadata": {},
   "outputs": [
    {
     "name": "stderr",
     "output_type": "stream",
     "text": [
      "Could not identify an external compartment by name and choosing one with the most boundary reactions. That might be complete nonsense or change suddenly. Consider renaming your compartments using `Model.compartments` to fix this.\n"
     ]
    },
    {
     "data": {
      "text/html": [
       "<div>\n",
       "<style scoped>\n",
       "    .dataframe tbody tr th:only-of-type {\n",
       "        vertical-align: middle;\n",
       "    }\n",
       "\n",
       "    .dataframe tbody tr th {\n",
       "        vertical-align: top;\n",
       "    }\n",
       "\n",
       "    .dataframe thead th {\n",
       "        text-align: right;\n",
       "    }\n",
       "</style>\n",
       "<table border=\"1\" class=\"dataframe\">\n",
       "  <thead>\n",
       "    <tr style=\"text-align: right;\">\n",
       "      <th></th>\n",
       "      <th>Flux</th>\n",
       "    </tr>\n",
       "  </thead>\n",
       "  <tbody>\n",
       "    <tr>\n",
       "      <th>1-hexadecanoyl-2-tetradecanoyl-sn-glycero-3-phospho-(1'-sn-glycerol)</th>\n",
       "      <td>0.228056</td>\n",
       "    </tr>\n",
       "    <tr>\n",
       "      <th>1-(9Z,12Z-octadecadienoyl)-2-(9Z-hexadecenoyl)-sn-glycero-3-phospho-(1'-sn-glycerol)</th>\n",
       "      <td>0.205250</td>\n",
       "    </tr>\n",
       "    <tr>\n",
       "      <th>1,2-ditetradecanoyl-sn-glycero-3-phospho-(1'-sn-glycerol)</th>\n",
       "      <td>0.241471</td>\n",
       "    </tr>\n",
       "    <tr>\n",
       "      <th>1-hexadecanoyl-2-(9Z,12Z-octadecadienoyl)-sn-glycero-3-phospho-(1'-sn-glycerol)</th>\n",
       "      <td>0.205250</td>\n",
       "    </tr>\n",
       "    <tr>\n",
       "      <th>1,2-di-(9Z-hexadecenoyl)-sn-glycero-3-phospho-(1'-sn-glycerol)</th>\n",
       "      <td>0.216053</td>\n",
       "    </tr>\n",
       "    <tr>\n",
       "      <th>1,2-di-(9Z,12Z-octadecadienoyl)-sn-glycero-3-phospho-(1'-sn-glycerol)</th>\n",
       "      <td>0.195476</td>\n",
       "    </tr>\n",
       "    <tr>\n",
       "      <th>1,2-dihexadecanoyl-sn-glycero-3-phospho-(1'-sn-glycerol)</th>\n",
       "      <td>0.216053</td>\n",
       "    </tr>\n",
       "    <tr>\n",
       "      <th>1-(9Z,12Z-octadecadienoyl)-2-(4Z,7Z,10Z,13Z-hexadecatetraenoyl)-sn-glycero-3-phospho-(1'-sn-glycerol)</th>\n",
       "      <td>0.205250</td>\n",
       "    </tr>\n",
       "    <tr>\n",
       "      <th>1,2-di-(6Z,9Z,12Z-octadecatrienoyl)-sn-glycero-3-phospho-(1'-sn-glycerol)</th>\n",
       "      <td>0.195476</td>\n",
       "    </tr>\n",
       "    <tr>\n",
       "      <th>1-(9Z-octadecenoyl)-2-(4Z,7Z,10Z,13Z-hexadecatetraenoyl)-sn-glycero-3-phospho-(1'-sn-glycerol)</th>\n",
       "      <td>0.205250</td>\n",
       "    </tr>\n",
       "    <tr>\n",
       "      <th>1-(9Z,12Z,15Z-octadecatrienoyl)-2-(9Z-hexadecenoyl)-sn-glycero-3-phospho-(1'-sn-glycerol)</th>\n",
       "      <td>0.205250</td>\n",
       "    </tr>\n",
       "    <tr>\n",
       "      <th>1,2-dioctadecanoyl-sn-glycero-3-phospho-(1'-sn-glycerol)</th>\n",
       "      <td>0.195476</td>\n",
       "    </tr>\n",
       "    <tr>\n",
       "      <th>1-hexadecanoyl-2-(9Z,12Z,15Z-octadecatrienoyl)-sn-glycero-3-phospho-(1'-sn-glycerol)</th>\n",
       "      <td>0.205250</td>\n",
       "    </tr>\n",
       "    <tr>\n",
       "      <th>1-(9Z-octadecenoyl)-2-(9Z-hexadecenoyl)-sn-glycero-3-phospho-(1'-sn-glycerol)</th>\n",
       "      <td>0.205250</td>\n",
       "    </tr>\n",
       "  </tbody>\n",
       "</table>\n",
       "</div>"
      ],
      "text/plain": [
       "                                                        Flux\n",
       "1-hexadecanoyl-2-tetradecanoyl-sn-glycero-3-pho...  0.228056\n",
       "1-(9Z,12Z-octadecadienoyl)-2-(9Z-hexadecenoyl)-...  0.205250\n",
       "1,2-ditetradecanoyl-sn-glycero-3-phospho-(1'-sn...  0.241471\n",
       "1-hexadecanoyl-2-(9Z,12Z-octadecadienoyl)-sn-gl...  0.205250\n",
       "1,2-di-(9Z-hexadecenoyl)-sn-glycero-3-phospho-(...  0.216053\n",
       "1,2-di-(9Z,12Z-octadecadienoyl)-sn-glycero-3-ph...  0.195476\n",
       "1,2-dihexadecanoyl-sn-glycero-3-phospho-(1'-sn-...  0.216053\n",
       "1-(9Z,12Z-octadecadienoyl)-2-(4Z,7Z,10Z,13Z-hex...  0.205250\n",
       "1,2-di-(6Z,9Z,12Z-octadecatrienoyl)-sn-glycero-...  0.195476\n",
       "1-(9Z-octadecenoyl)-2-(4Z,7Z,10Z,13Z-hexadecate...  0.205250\n",
       "1-(9Z,12Z,15Z-octadecatrienoyl)-2-(9Z-hexadecen...  0.205250\n",
       "1,2-dioctadecanoyl-sn-glycero-3-phospho-(1'-sn-...  0.195476\n",
       "1-hexadecanoyl-2-(9Z,12Z,15Z-octadecatrienoyl)-...  0.205250\n",
       "1-(9Z-octadecenoyl)-2-(9Z-hexadecenoyl)-sn-glyc...  0.205250"
      ]
     },
     "execution_count": 5,
     "metadata": {},
     "output_type": "execute_result"
    }
   ],
   "source": [
    "model.test_reaction(\"e_PG__chlo\")"
   ]
  },
  {
   "cell_type": "code",
   "execution_count": 9,
   "metadata": {},
   "outputs": [
    {
     "name": "stderr",
     "output_type": "stream",
     "text": [
      "Could not identify an external compartment by name and choosing one with the most boundary reactions. That might be complete nonsense or change suddenly. Consider renaming your compartments using `Model.compartments` to fix this.\n"
     ]
    },
    {
     "data": {
      "text/html": [
       "<div>\n",
       "<style scoped>\n",
       "    .dataframe tbody tr th:only-of-type {\n",
       "        vertical-align: middle;\n",
       "    }\n",
       "\n",
       "    .dataframe tbody tr th {\n",
       "        vertical-align: top;\n",
       "    }\n",
       "\n",
       "    .dataframe thead th {\n",
       "        text-align: right;\n",
       "    }\n",
       "</style>\n",
       "<table border=\"1\" class=\"dataframe\">\n",
       "  <thead>\n",
       "    <tr style=\"text-align: right;\">\n",
       "      <th></th>\n",
       "      <th>Flux</th>\n",
       "    </tr>\n",
       "  </thead>\n",
       "  <tbody>\n",
       "    <tr>\n",
       "      <th>H2O</th>\n",
       "      <td>1500.000000</td>\n",
       "    </tr>\n",
       "    <tr>\n",
       "      <th>beta-D-Fructose 1,6-bisphosphate</th>\n",
       "      <td>1.368333</td>\n",
       "    </tr>\n",
       "  </tbody>\n",
       "</table>\n",
       "</div>"
      ],
      "text/plain": [
       "                                         Flux\n",
       "H2O                               1500.000000\n",
       "beta-D-Fructose 1,6-bisphosphate     1.368333"
      ]
     },
     "execution_count": 9,
     "metadata": {},
     "output_type": "execute_result"
    }
   ],
   "source": [
    "model.test_reaction(\"R04780__chlo\")"
   ]
  },
  {
   "cell_type": "code",
   "execution_count": null,
   "metadata": {},
   "outputs": [],
   "source": []
  },
  {
   "cell_type": "code",
   "execution_count": null,
   "metadata": {},
   "outputs": [],
   "source": []
  }
 ],
 "metadata": {
  "kernelspec": {
   "display_name": "R",
   "language": "python",
   "name": "python3"
  },
  "language_info": {
   "codemirror_mode": {
    "name": "ipython",
    "version": 3
   },
   "file_extension": ".py",
   "mimetype": "text/x-python",
   "name": "python",
   "nbconvert_exporter": "python",
   "pygments_lexer": "ipython3",
   "version": "3.9.13"
  },
  "orig_nbformat": 4
 },
 "nbformat": 4,
 "nbformat_minor": 2
}
